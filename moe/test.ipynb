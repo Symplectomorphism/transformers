{
 "cells": [
  {
   "cell_type": "code",
   "execution_count": 1,
   "metadata": {},
   "outputs": [],
   "source": [
    "from moe import MoE\n",
    "import torch\n",
    "from torch import nn\n",
    "from torch.optim import Adam"
   ]
  },
  {
   "cell_type": "code",
   "execution_count": 2,
   "metadata": {},
   "outputs": [],
   "source": [
    "def train(x, y, model, loss_fn, optim):\n",
    "    # model returns the prediction and the loss that encourages all experts to have equal importance and load \n",
    "    y_hat, aux_loss = model(x.float())\n",
    "    # calculate prediction loss\n",
    "    loss = loss_fn(y_hat, y)\n",
    "    # combine losses\n",
    "    total_loss = loss + aux_loss\n",
    "    optim.zero_grad()\n",
    "    total_loss.backward()\n",
    "    optim.step()\n",
    "\n",
    "    print(\"Training results - loss: {:.2f}, aux_loss: {:.3f}\".format(loss.item(), aux_loss.item()))\n",
    "    return model"
   ]
  },
  {
   "cell_type": "code",
   "execution_count": 3,
   "metadata": {},
   "outputs": [],
   "source": [
    "def eval(x, y, model, loss_fn):\n",
    "    model.eval()\n",
    "    # model returns the prediction and the loss that encourages all experts to have equal importance and load\n",
    "    y_hat, aux_loss = model(x.float(), train=False)\n",
    "    loss = loss_fn(y_hat, y)\n",
    "    total_loss = loss + aux_loss\n",
    "    print(\"Evaluation results - loss: {:.2f}, aux_loss: {:.3f}\".format(loss.item(), aux_loss.item()))"
   ]
  },
  {
   "cell_type": "code",
   "execution_count": 4,
   "metadata": {},
   "outputs": [],
   "source": [
    "def dummy_data(batch_size, input_size, num_classes):\n",
    "    # dummy input\n",
    "    x = torch.rand(batch_size, input_size)\n",
    "\n",
    "    # dummy target\n",
    "    y = torch.randint(num_classes, (batch_size, 1)).squeeze(1)\n",
    "    return x, y"
   ]
  },
  {
   "cell_type": "code",
   "execution_count": 5,
   "metadata": {},
   "outputs": [],
   "source": [
    "# arguments\n",
    "input_size = 1000\n",
    "num_classes = 20\n",
    "num_experts = 10\n",
    "hidden_size = 64\n",
    "batch_size = 5\n",
    "k = 3\n",
    "\n",
    "# instantiate the MoE layer\n",
    "model = MoE(input_size, num_classes, num_experts, hidden_size, k=k, noisy_gating=True)\n",
    "\n",
    "loss_fn = nn.NLLLoss()\n",
    "optim = Adam(model.parameters(), lr=1e-3)\n",
    "\n",
    "x, y = dummy_data(batch_size, input_size, num_classes)"
   ]
  },
  {
   "cell_type": "code",
   "execution_count": 6,
   "metadata": {},
   "outputs": [
    {
     "name": "stdout",
     "output_type": "stream",
     "text": [
      "Training results - loss: 3.00, aux_loss: 0.010\n",
      "Training results - loss: 2.86, aux_loss: 0.016\n",
      "Training results - loss: 2.51, aux_loss: 0.018\n",
      "Training results - loss: 2.72, aux_loss: 0.018\n",
      "Training results - loss: 2.00, aux_loss: 0.022\n",
      "Training results - loss: 2.56, aux_loss: 0.030\n",
      "Training results - loss: 1.22, aux_loss: 0.022\n",
      "Training results - loss: 1.23, aux_loss: 0.040\n",
      "Training results - loss: 1.14, aux_loss: 0.037\n",
      "Training results - loss: 1.60, aux_loss: 0.040\n",
      "Training results - loss: 0.78, aux_loss: 0.032\n",
      "Training results - loss: 1.85, aux_loss: 0.051\n",
      "Training results - loss: 1.50, aux_loss: 0.034\n",
      "Training results - loss: 0.94, aux_loss: 0.037\n",
      "Training results - loss: 0.77, aux_loss: 0.039\n",
      "Training results - loss: 0.87, aux_loss: 0.042\n",
      "Training results - loss: 0.55, aux_loss: 0.039\n",
      "Training results - loss: 0.69, aux_loss: 0.052\n",
      "Training results - loss: 0.53, aux_loss: 0.056\n",
      "Training results - loss: 0.45, aux_loss: 0.050\n",
      "Training results - loss: 0.42, aux_loss: 0.056\n",
      "Training results - loss: 0.33, aux_loss: 0.053\n",
      "Training results - loss: 0.29, aux_loss: 0.055\n",
      "Training results - loss: 0.28, aux_loss: 0.054\n",
      "Training results - loss: 0.17, aux_loss: 0.046\n",
      "Training results - loss: 0.14, aux_loss: 0.042\n",
      "Training results - loss: 0.17, aux_loss: 0.049\n",
      "Training results - loss: 0.12, aux_loss: 0.044\n",
      "Training results - loss: 0.10, aux_loss: 0.038\n",
      "Training results - loss: 0.13, aux_loss: 0.046\n",
      "Training results - loss: 0.09, aux_loss: 0.037\n",
      "Training results - loss: 0.09, aux_loss: 0.035\n",
      "Training results - loss: 0.09, aux_loss: 0.042\n",
      "Training results - loss: 0.08, aux_loss: 0.040\n",
      "Training results - loss: 0.06, aux_loss: 0.036\n",
      "Training results - loss: 0.06, aux_loss: 0.036\n",
      "Training results - loss: 0.07, aux_loss: 0.039\n",
      "Training results - loss: 0.05, aux_loss: 0.034\n",
      "Training results - loss: 0.09, aux_loss: 0.043\n",
      "Training results - loss: 0.05, aux_loss: 0.036\n",
      "Training results - loss: 0.04, aux_loss: 0.040\n",
      "Training results - loss: 0.04, aux_loss: 0.036\n",
      "Training results - loss: 0.03, aux_loss: 0.034\n",
      "Training results - loss: 0.03, aux_loss: 0.035\n",
      "Training results - loss: 0.03, aux_loss: 0.037\n",
      "Training results - loss: 0.03, aux_loss: 0.039\n",
      "Training results - loss: 0.02, aux_loss: 0.036\n",
      "Training results - loss: 0.02, aux_loss: 0.037\n",
      "Training results - loss: 0.02, aux_loss: 0.035\n",
      "Training results - loss: 0.03, aux_loss: 0.038\n",
      "Training results - loss: 0.03, aux_loss: 0.040\n",
      "Training results - loss: 0.02, aux_loss: 0.038\n",
      "Training results - loss: 0.02, aux_loss: 0.035\n",
      "Training results - loss: 0.02, aux_loss: 0.037\n",
      "Training results - loss: 0.02, aux_loss: 0.038\n",
      "Training results - loss: 0.01, aux_loss: 0.035\n",
      "Training results - loss: 0.01, aux_loss: 0.036\n",
      "Training results - loss: 0.01, aux_loss: 0.038\n",
      "Training results - loss: 0.02, aux_loss: 0.037\n",
      "Training results - loss: 0.01, aux_loss: 0.038\n",
      "Training results - loss: 0.01, aux_loss: 0.036\n",
      "Training results - loss: 0.01, aux_loss: 0.035\n",
      "Training results - loss: 0.01, aux_loss: 0.036\n",
      "Training results - loss: 0.01, aux_loss: 0.036\n",
      "Training results - loss: 0.01, aux_loss: 0.034\n",
      "Training results - loss: 0.01, aux_loss: 0.034\n",
      "Training results - loss: 0.02, aux_loss: 0.033\n",
      "Training results - loss: 0.02, aux_loss: 0.033\n",
      "Training results - loss: 0.01, aux_loss: 0.032\n",
      "Training results - loss: 0.01, aux_loss: 0.032\n",
      "Training results - loss: 0.01, aux_loss: 0.033\n",
      "Training results - loss: 0.02, aux_loss: 0.032\n",
      "Training results - loss: 0.01, aux_loss: 0.032\n",
      "Training results - loss: 0.02, aux_loss: 0.032\n",
      "Training results - loss: 0.02, aux_loss: 0.032\n",
      "Training results - loss: 0.01, aux_loss: 0.031\n",
      "Training results - loss: 0.02, aux_loss: 0.034\n",
      "Training results - loss: 0.01, aux_loss: 0.031\n",
      "Training results - loss: 0.01, aux_loss: 0.031\n",
      "Training results - loss: 0.01, aux_loss: 0.031\n",
      "Training results - loss: 0.01, aux_loss: 0.031\n",
      "Training results - loss: 0.01, aux_loss: 0.033\n",
      "Training results - loss: 0.01, aux_loss: 0.031\n",
      "Training results - loss: 0.01, aux_loss: 0.032\n",
      "Training results - loss: 0.01, aux_loss: 0.032\n",
      "Training results - loss: 0.01, aux_loss: 0.031\n",
      "Training results - loss: 0.01, aux_loss: 0.032\n",
      "Training results - loss: 0.01, aux_loss: 0.031\n",
      "Training results - loss: 0.01, aux_loss: 0.032\n",
      "Training results - loss: 0.01, aux_loss: 0.032\n",
      "Training results - loss: 0.01, aux_loss: 0.032\n",
      "Training results - loss: 0.01, aux_loss: 0.031\n",
      "Training results - loss: 0.01, aux_loss: 0.031\n",
      "Training results - loss: 0.01, aux_loss: 0.033\n",
      "Training results - loss: 0.01, aux_loss: 0.031\n",
      "Training results - loss: 0.01, aux_loss: 0.031\n",
      "Training results - loss: 0.01, aux_loss: 0.031\n",
      "Training results - loss: 0.01, aux_loss: 0.031\n",
      "Training results - loss: 0.01, aux_loss: 0.031\n",
      "Training results - loss: 0.01, aux_loss: 0.031\n"
     ]
    }
   ],
   "source": [
    "# train\n",
    "for _ in range(100):\n",
    "    model = train(x, y, model, loss_fn, optim)"
   ]
  },
  {
   "cell_type": "code",
   "execution_count": 7,
   "metadata": {},
   "outputs": [
    {
     "name": "stdout",
     "output_type": "stream",
     "text": [
      "Evaluation results - loss: 0.01, aux_loss: 0.030\n"
     ]
    }
   ],
   "source": [
    "# evaluate\n",
    "# x, y = dummy_data(batch_size, input_size, num_classes)\n",
    "eval(x, y, model, loss_fn)"
   ]
  },
  {
   "cell_type": "code",
   "execution_count": null,
   "metadata": {},
   "outputs": [],
   "source": []
  }
 ],
 "metadata": {
  "kernelspec": {
   "display_name": "dec-transformer-route",
   "language": "python",
   "name": "python3"
  },
  "language_info": {
   "codemirror_mode": {
    "name": "ipython",
    "version": 3
   },
   "file_extension": ".py",
   "mimetype": "text/x-python",
   "name": "python",
   "nbconvert_exporter": "python",
   "pygments_lexer": "ipython3",
   "version": "3.11.6"
  }
 },
 "nbformat": 4,
 "nbformat_minor": 2
}
