{
 "cells": [
  {
   "cell_type": "code",
   "execution_count": 1,
   "metadata": {},
   "outputs": [],
   "source": [
    "from moe import MoE\n",
    "import torch\n",
    "from torch import nn\n",
    "from torch.optim import Adam"
   ]
  },
  {
   "cell_type": "code",
   "execution_count": 2,
   "metadata": {},
   "outputs": [],
   "source": [
    "def train(x, y, model, loss_fn, optim):\n",
    "    # model returns the prediction and the loss that encourages all experts to have equal importance and load \n",
    "    y_hat, aux_loss = model(x.float())\n",
    "    # calculate prediction loss\n",
    "    loss = loss_fn(y_hat, y)\n",
    "    # combine losses\n",
    "    total_loss = loss + aux_loss\n",
    "    optim.zero_grad()\n",
    "    total_loss.backward()\n",
    "    optim.step()\n",
    "\n",
    "    print(\"Training results - loss: {:.2f}, aux_loss: {:.3f}\".format(loss.item(), aux_loss.item()))\n",
    "    return model"
   ]
  },
  {
   "cell_type": "code",
   "execution_count": 3,
   "metadata": {},
   "outputs": [],
   "source": [
    "def eval(x, y, model, loss_fn):\n",
    "    model.eval()\n",
    "    # model returns the prediction and the loss that encourages all experts to have equal importance and load\n",
    "    y_hat, aux_loss = model(x.float(), train=False)\n",
    "    loss = loss_fn(y_hat, y)\n",
    "    total_loss = loss + aux_loss\n",
    "    print(\"Evaluation results - loss: {:.2f}, aux_loss: {:.3f}\".format(loss.item(), aux_loss.item()))"
   ]
  },
  {
   "cell_type": "code",
   "execution_count": 4,
   "metadata": {},
   "outputs": [],
   "source": [
    "def dummy_data(batch_size, input_size, num_classes):\n",
    "    # dummy input\n",
    "    x = torch.rand(batch_size, input_size)\n",
    "\n",
    "    # dummy target\n",
    "    y = torch.randint(num_classes, (batch_size, 1)).squeeze(1)\n",
    "    return x, y"
   ]
  },
  {
   "cell_type": "code",
   "execution_count": 5,
   "metadata": {},
   "outputs": [],
   "source": [
    "# arguments\n",
    "input_size = 1000\n",
    "num_classes = 20\n",
    "num_experts = 10\n",
    "hidden_size = 64\n",
    "batch_size = 5\n",
    "k = 4\n",
    "\n",
    "# instantiate the MoE layer\n",
    "model = MoE(input_size, num_classes, num_experts, hidden_size, k=k, noisy_gating=True)\n",
    "\n",
    "loss_fn = nn.NLLLoss()\n",
    "optim = Adam(model.parameters(), lr=1e-3)\n",
    "\n",
    "x, y = dummy_data(batch_size, input_size, num_classes)"
   ]
  },
  {
   "cell_type": "code",
   "execution_count": 11,
   "metadata": {},
   "outputs": [
    {
     "name": "stdout",
     "output_type": "stream",
     "text": [
      "Training results - loss: 0.01, aux_loss: 0.042\n",
      "Training results - loss: 0.01, aux_loss: 0.045\n",
      "Training results - loss: 0.01, aux_loss: 0.044\n",
      "Training results - loss: 0.01, aux_loss: 0.043\n",
      "Training results - loss: 0.01, aux_loss: 0.044\n",
      "Training results - loss: 0.01, aux_loss: 0.045\n",
      "Training results - loss: 0.01, aux_loss: 0.042\n",
      "Training results - loss: 0.01, aux_loss: 0.043\n",
      "Training results - loss: 0.01, aux_loss: 0.045\n",
      "Training results - loss: 0.01, aux_loss: 0.043\n",
      "Training results - loss: 0.01, aux_loss: 0.044\n",
      "Training results - loss: 0.01, aux_loss: 0.044\n",
      "Training results - loss: 0.01, aux_loss: 0.042\n",
      "Training results - loss: 0.01, aux_loss: 0.043\n",
      "Training results - loss: 0.01, aux_loss: 0.043\n",
      "Training results - loss: 0.01, aux_loss: 0.043\n",
      "Training results - loss: 0.01, aux_loss: 0.041\n",
      "Training results - loss: 0.01, aux_loss: 0.044\n",
      "Training results - loss: 0.01, aux_loss: 0.043\n",
      "Training results - loss: 0.01, aux_loss: 0.043\n"
     ]
    }
   ],
   "source": [
    "# train\n",
    "for _ in range(20):\n",
    "    model = train(x, y, model, loss_fn, optim)"
   ]
  },
  {
   "cell_type": "code",
   "execution_count": 51,
   "metadata": {},
   "outputs": [
    {
     "name": "stdout",
     "output_type": "stream",
     "text": [
      "Evaluation results - loss: 0.24, aux_loss: 0.038\n"
     ]
    }
   ],
   "source": [
    "# evaluate\n",
    "x, y = dummy_data(batch_size, input_size, num_classes)\n",
    "eval(x, y, model, loss_fn)"
   ]
  },
  {
   "cell_type": "code",
   "execution_count": null,
   "metadata": {},
   "outputs": [],
   "source": []
  }
 ],
 "metadata": {
  "kernelspec": {
   "display_name": "dec-transformer-route",
   "language": "python",
   "name": "python3"
  },
  "language_info": {
   "codemirror_mode": {
    "name": "ipython",
    "version": 3
   },
   "file_extension": ".py",
   "mimetype": "text/x-python",
   "name": "python",
   "nbconvert_exporter": "python",
   "pygments_lexer": "ipython3",
   "version": "3.11.6"
  }
 },
 "nbformat": 4,
 "nbformat_minor": 2
}
