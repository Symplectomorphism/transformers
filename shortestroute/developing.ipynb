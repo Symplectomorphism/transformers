{
 "cells": [
  {
   "cell_type": "code",
   "execution_count": 1,
   "metadata": {},
   "outputs": [],
   "source": [
    "from mingpt.utils import set_seed\n",
    "import numpy as np\n",
    "import scipy as sp\n",
    "import torch\n",
    "import torch.nn as nn\n",
    "from torch.nn import functional as F\n",
    "import math\n",
    "from torch.utils.data import Dataset, DataLoader\n",
    "from mingpt.model import GPT\n",
    "from mingpt.trainer import Trainer\n",
    "from mingpt.utils import set_seed, setup_logging, CfgNode as CN\n",
    "import time\n",
    "\n",
    "import routegym.env\n",
    "import networkx as nx"
   ]
  },
  {
   "cell_type": "code",
   "execution_count": 2,
   "metadata": {},
   "outputs": [
    {
     "name": "stdout",
     "output_type": "stream",
     "text": [
      "sparsity = 0.55\n",
      "[[0 1 0 1 1 1 1 1 1 0 1 0]\n",
      " [1 0 0 0 0 1 1 1 1 0 0 1]\n",
      " [0 1 0 0 0 0 1 0 1 1 0 0]\n",
      " [1 1 1 0 1 1 0 1 1 0 0 1]\n",
      " [0 0 0 1 0 1 1 0 0 0 0 1]\n",
      " [0 1 1 1 1 0 0 0 0 0 0 1]\n",
      " [1 0 1 1 1 0 0 0 0 1 0 1]\n",
      " [0 1 0 1 1 1 0 0 0 1 1 0]\n",
      " [0 1 0 1 0 0 1 0 0 1 1 1]\n",
      " [0 1 1 0 0 0 1 0 0 0 0 0]\n",
      " [0 1 0 0 1 0 1 1 1 1 0 0]\n",
      " [0 0 0 0 1 0 1 0 0 1 0 0]]\n",
      "[[-1  1 -1  1  1  1  1  1  1 -1  1 -1]\n",
      " [ 1 -1  1  1 -1  1  1  1  1  1  1  1]\n",
      " [-1  1 -1  1 -1  1  1 -1  1  1 -1 -1]\n",
      " [ 1  1  1 -1  1  1  1  1  1 -1 -1  1]\n",
      " [ 1 -1 -1  1 -1  1  1  1 -1 -1  1  1]\n",
      " [ 1  1  1  1  1 -1 -1  1 -1 -1 -1  1]\n",
      " [ 1  1  1  1  1 -1 -1 -1  1  1  1  1]\n",
      " [ 1  1 -1  1  1  1 -1 -1 -1  1  1 -1]\n",
      " [ 1  1  1  1 -1 -1  1 -1 -1  1  1  1]\n",
      " [-1  1  1 -1 -1 -1  1  1  1 -1  1  1]\n",
      " [ 1  1 -1 -1  1 -1  1  1  1  1 -1 -1]\n",
      " [-1  1 -1  1  1  1  1 -1  1  1 -1 -1]]\n"
     ]
    }
   ],
   "source": [
    "node_number = 12\n",
    "\n",
    "env = None\n",
    "while env is None:\n",
    "    try:\n",
    "        A = sp.sparse.random(node_number, node_number, density=0.5, format='csr')\n",
    "        A.data[:] = 1\n",
    "        A = A.todense()\n",
    "        A = np.ma.array(A, mask=np.eye(node_number)).filled(fill_value=0).astype(int)\n",
    "        print(\"sparsity = %.2f\" % (1 - np.sum(A)/A.size))\n",
    "        G = nx.from_numpy_array(A)\n",
    "        env = routegym.env.ShortestRouteEnv(G, 0, 5, random_weights=(1,10))\n",
    "    except:\n",
    "        pass\n",
    "# env.render()\n",
    "print(A)\n",
    "print(env.graph.adj_mat)\n",
    "# print(env.get_dijkstra())"
   ]
  },
  {
   "cell_type": "code",
   "execution_count": 3,
   "metadata": {},
   "outputs": [],
   "source": [
    "for _ in range(30):\n",
    "    env.reset()"
   ]
  },
  {
   "cell_type": "code",
   "execution_count": 4,
   "metadata": {},
   "outputs": [
    {
     "name": "stdout",
     "output_type": "stream",
     "text": [
      "Position: {0, 5, }\n",
      "\n",
      "Final reward: -1.00\n"
     ]
    },
    {
     "data": {
      "text/plain": [
       "True"
      ]
     },
     "execution_count": 4,
     "metadata": {},
     "output_type": "execute_result"
    }
   ],
   "source": [
    "rew = 0\n",
    "position = 0\n",
    "env.reset()\n",
    "done = False\n",
    "print(\"Position: {\", end='')\n",
    "while not done:\n",
    "    action = np.random.choice(np.arange(0, env.graph.adj_mat.shape[0]))\n",
    "    position, reward, done, _ = env.step(action)\n",
    "    # env.render()\n",
    "    print(\"%d, \" % position, end='')\n",
    "    rew += reward\n",
    "print(\"}\\n\")\n",
    "print(\"Final reward: %.2f\" % rew)\n",
    "env.reset()\n",
    "done"
   ]
  },
  {
   "cell_type": "code",
   "execution_count": 5,
   "metadata": {},
   "outputs": [],
   "source": [
    "env.reset()\n",
    "\n",
    "num_steps = 10_000\n",
    "\n",
    "def create_dataset():\n",
    "    obss = []\n",
    "    actions = []\n",
    "    returns = [0]\n",
    "    done_idxs = []\n",
    "    stepwise_returns = []\n",
    "\n",
    "    # simulate to create trajectories\n",
    "    transitions_per_buffer = np.zeros(50, dtype=int)\n",
    "    num_trajectories = 0\n",
    "    while len(obss) < num_steps:\n",
    "        done = False\n",
    "        for _ in range(10):\n",
    "            ac = np.random.choice(np.arange(0, env.graph.adj_mat.shape[0]))\n",
    "            state, reward, done, _ = env.step(ac)\n",
    "            obss += [state]\n",
    "            actions += [ac]\n",
    "            stepwise_returns += [reward]\n",
    "            returns[-1] += reward\n",
    "        # done = False\n",
    "        env.reset()\n",
    "        done_idxs += [len(obss)]\n",
    "        returns += [0]\n",
    "\n",
    "    actions = np.array(actions)\n",
    "    returns = np.array(returns)\n",
    "    stepwise_returns = np.array(stepwise_returns)\n",
    "    done_idxs = np.array(done_idxs)\n",
    "\n",
    "    # create reward-to-go dataset\n",
    "    start_index = 0\n",
    "    rtg = np.zeros_like(stepwise_returns)\n",
    "    for i in done_idxs:\n",
    "        i = int(i)\n",
    "        curr_traj_returns = stepwise_returns[start_index:i]\n",
    "        for j in range(i-1, start_index-1, -1): # start from i-1\n",
    "            rtg_j = curr_traj_returns[j-start_index:i-start_index]\n",
    "            rtg[j] = sum(rtg_j)\n",
    "        start_index = i\n",
    "    print('max rtg is %d' % max(rtg))\n",
    "\n",
    "    # create timestep dataset\n",
    "    start_index = 0\n",
    "    timesteps = np.zeros(len(actions)+1, dtype=int)\n",
    "    for i in done_idxs:\n",
    "        i = int(i)\n",
    "        timesteps[start_index:i+1] = np.arange(i+1 - start_index)\n",
    "        start_index = i+1\n",
    "    print('max timesteps is %d' % max(timesteps))\n",
    "\n",
    "    return obss, actions, returns, done_idxs, rtg, timesteps"
   ]
  },
  {
   "cell_type": "code",
   "execution_count": 6,
   "metadata": {},
   "outputs": [
    {
     "name": "stdout",
     "output_type": "stream",
     "text": [
      "max rtg is 0\n",
      "max timesteps is 10\n",
      "-7.0\n"
     ]
    },
    {
     "data": {
      "text/plain": [
       "array([4, 5, 6, 7, 8, 9, 0, 1, 2, 3, 4, 5, 6, 7, 8, 9])"
      ]
     },
     "execution_count": 6,
     "metadata": {},
     "output_type": "execute_result"
    }
   ],
   "source": [
    "obss, actions, returns, done_idxs, rtgs, timesteps = create_dataset()\n",
    "print(returns[:-1].max())\n",
    "timesteps[25:41]"
   ]
  },
  {
   "cell_type": "code",
   "execution_count": 7,
   "metadata": {},
   "outputs": [],
   "source": [
    "class StateActionReturnDataset(Dataset):\n",
    "\n",
    "    @staticmethod\n",
    "    def get_default_config():\n",
    "        C = CN()\n",
    "        C.block_size = 10 * 3\n",
    "        return C\n",
    "\n",
    "    def __init__(self, data, block_size, actions, done_idxs, rtgs, timesteps):\n",
    "        self.block_size = block_size\n",
    "        self.vocab_size = max(actions) + 1\n",
    "        self.data = data\n",
    "        self.actions = actions\n",
    "        self.done_idxs = done_idxs\n",
    "        self.rtgs = rtgs\n",
    "        self.timesteps = timesteps\n",
    "\n",
    "    def __len__(self):\n",
    "        return len(self.data) - self.block_size\n",
    "\n",
    "    def __getitem__(self, idx):\n",
    "        block_size = self.block_size // 3\n",
    "        done_idx = idx + block_size\n",
    "        for i in self.done_idxs:\n",
    "            if i > idx: # first done_idx is greater than idx\n",
    "                done_idx = min(int(i), done_idx)\n",
    "                break\n",
    "        idx = done_idx - block_size\n",
    "        states = torch.tensor(np.array(self.data[idx:done_idx]), dtype=torch.float32).reshape(block_size, -1) # (block_size, state_dim)\n",
    "        actions = torch.tensor(self.actions[idx:done_idx], dtype=torch.long).unsqueeze(1) # (block_size, 1)\n",
    "        rtgs = torch.tensor(self.rtgs[idx:done_idx], dtype=torch.float32).unsqueeze(1) # (block_size, 1)\n",
    "        timesteps = torch.tensor(self.timesteps[idx:idx+1], dtype=torch.int64).unsqueeze(1) # (block_size, 1)\n",
    "\n",
    "        return states, actions, rtgs, timesteps"
   ]
  },
  {
   "cell_type": "code",
   "execution_count": 8,
   "metadata": {},
   "outputs": [],
   "source": [
    "C = CN()\n",
    "\n",
    "# system\n",
    "C.system = CN()\n",
    "C.system.seed = 3407\n",
    "C.system.work_dir = './out/decgpt'\n",
    "\n",
    "# data\n",
    "C.data = StateActionReturnDataset.get_default_config()\n",
    "\n",
    "# model \n",
    "C.model = GPT.get_default_config()\n",
    "C.model.model_type = 'gpt-mini'\n",
    "\n",
    "# trainer\n",
    "C.trainer = Trainer.get_default_config()\n",
    "C.trainer.learning_rate = 5e-4"
   ]
  },
  {
   "cell_type": "code",
   "execution_count": 9,
   "metadata": {},
   "outputs": [],
   "source": [
    "train_dataset = StateActionReturnDataset(obss, 10 * 3, actions, done_idxs, rtgs, timesteps)\n"
   ]
  },
  {
   "cell_type": "code",
   "execution_count": 10,
   "metadata": {},
   "outputs": [
    {
     "data": {
      "text/plain": [
       "10"
      ]
     },
     "execution_count": 10,
     "metadata": {},
     "output_type": "execute_result"
    }
   ],
   "source": [
    "C.model.vocab_size = train_dataset.vocab_size\n",
    "C.model.block_size = train_dataset.block_size\n",
    "C.model.max_timestep = max(timesteps)\n",
    "C.model.max_timestep"
   ]
  },
  {
   "cell_type": "code",
   "execution_count": 11,
   "metadata": {},
   "outputs": [
    {
     "name": "stdout",
     "output_type": "stream",
     "text": [
      "number of parameters: 2.68M\n"
     ]
    }
   ],
   "source": [
    "model = GPT(C.model)"
   ]
  },
  {
   "cell_type": "code",
   "execution_count": 12,
   "metadata": {},
   "outputs": [],
   "source": [
    "loader = DataLoader(train_dataset, shuffle=True, pin_memory=True, batch_size=4)"
   ]
  },
  {
   "cell_type": "code",
   "execution_count": 13,
   "metadata": {},
   "outputs": [],
   "source": [
    "for _ in range(121):\n",
    "    x, y, r, t = next(iter(loader))"
   ]
  },
  {
   "cell_type": "code",
   "execution_count": 34,
   "metadata": {},
   "outputs": [],
   "source": [
    "x, y, r, t = next(iter(loader))"
   ]
  },
  {
   "cell_type": "code",
   "execution_count": 35,
   "metadata": {},
   "outputs": [
    {
     "data": {
      "text/plain": [
       "(tensor([[[-0.2209,  0.1048,  0.0400, -0.4434,  0.3314,  0.0972,  0.2595,\n",
       "            0.0179, -0.2309, -0.4157, -0.2121, -0.3785],\n",
       "          [-0.3402,  0.1332,  0.0795, -0.3866,  0.2141, -0.0405,  0.2103,\n",
       "           -0.0692, -0.1205, -0.4595, -0.1399, -0.4151],\n",
       "          [-0.2818,  0.1723,  0.2107, -0.4580,  0.2823, -0.0428,  0.1301,\n",
       "            0.0126, -0.3517, -0.4177,  0.1182, -0.4752],\n",
       "          [-0.2646,  0.2173,  0.4494, -0.5055,  0.3032, -0.0573,  0.0720,\n",
       "            0.1215, -0.3233, -0.4779,  0.0979, -0.2892],\n",
       "          [ 0.0131,  0.2224,  0.1778, -0.6035, -0.0218, -0.1633, -0.3874,\n",
       "            0.2251,  0.4679, -0.6376,  0.0370,  0.0962],\n",
       "          [-0.1956,  0.0473,  0.1672, -0.4417,  0.3557, -0.0062,  0.2109,\n",
       "            0.0520, -0.2786, -0.3897,  0.0246, -0.4495],\n",
       "          [ 0.0186,  0.1771,  0.1525, -0.4860, -0.0740, -0.0824,  0.2057,\n",
       "            0.1082, -0.1090, -0.3940,  0.0850, -0.3842],\n",
       "          [-0.1323,  0.1712,  0.1273, -0.5703,  0.1144,  0.0248,  0.1072,\n",
       "            0.0538, -0.2527, -0.3304,  0.2530, -0.1631],\n",
       "          [-0.0521,  0.1719,  0.2990, -0.8642,  0.2407,  0.0533,  0.1146,\n",
       "            0.1522, -0.1388, -0.4623,  0.2079, -0.4104],\n",
       "          [-0.1340,  0.0659,  0.0644, -0.6938,  0.2532, -0.0573,  0.1468,\n",
       "            0.1815, -0.3698, -0.3835,  0.2838, -0.1976]],\n",
       " \n",
       "         [[ 0.3174,  0.4289,  0.3214, -0.5675, -0.0529,  0.2078,  0.2246,\n",
       "            0.1767,  0.7476, -0.3513, -0.1947,  0.2836],\n",
       "          [ 0.2234,  0.1547,  0.1681, -0.8478,  0.0857, -0.1080,  0.4628,\n",
       "            0.2375, -0.1627, -0.3036,  0.0639, -0.1913],\n",
       "          [-0.1809, -0.0618,  0.0779, -0.5667,  0.3594, -0.0519,  0.1933,\n",
       "            0.0319, -0.3478, -0.4380,  0.0790, -0.3189],\n",
       "          [-0.1624,  0.0129,  0.0476, -0.5470,  0.2682, -0.0378,  0.1427,\n",
       "           -0.0038, -0.0702, -0.3287,  0.0716, -0.3394],\n",
       "          [-0.1233,  0.1543,  0.1754, -0.6073,  0.2757,  0.0810,  0.1488,\n",
       "            0.0362, -0.1793, -0.4117,  0.2529, -0.3912],\n",
       "          [-0.0811,  0.1448,  0.1655, -0.5984,  0.2409,  0.0173,  0.2849,\n",
       "           -0.2179, -0.3599, -0.2397,  0.0397, -0.4201],\n",
       "          [-0.1594,  0.1916,  0.4446, -0.5200,  0.2620, -0.0632,  0.1811,\n",
       "            0.1130, -0.3715, -0.4906,  0.0515, -0.4392],\n",
       "          [-0.2915,  0.1565,  0.1970, -0.4817,  0.2361, -0.1274,  0.2165,\n",
       "            0.0574, -0.3052, -0.3402, -0.0129, -0.5210],\n",
       "          [-0.1698, -0.0069,  0.1595, -0.4018,  0.2128, -0.1189,  0.2508,\n",
       "           -0.0558, -0.3442, -0.4414,  0.0341, -0.3373],\n",
       "          [ 0.2435, -0.0566,  0.1839, -0.8949,  0.0442,  0.0206,  0.2136,\n",
       "           -0.1166,  0.0665, -0.2215,  0.1490, -0.2559]],\n",
       " \n",
       "         [[ 0.0946,  0.4633,  0.2463,  0.0538,  0.0573,  0.3200, -0.1219,\n",
       "           -0.0553,  0.2167, -0.1185,  0.1075,  0.3426],\n",
       "          [-0.1440, -0.0010,  0.1803, -0.5516,  0.1925,  0.0076,  0.1720,\n",
       "            0.0338, -0.4066, -0.4395,  0.0710, -0.4437],\n",
       "          [-0.2006,  0.3206,  0.3172, -0.5806,  0.2084, -0.0053,  0.1814,\n",
       "           -0.0246, -0.2883, -0.5873,  0.1387, -0.3643],\n",
       "          [ 0.2378,  0.4119,  0.5376, -0.2789,  0.1855,  0.3171, -0.2358,\n",
       "           -0.0268,  0.6699, -0.5622, -0.0912,  0.2081],\n",
       "          [ 0.0601,  0.0227,  0.0446, -0.6710,  0.2163,  0.0707,  0.1183,\n",
       "           -0.0315, -0.1100, -0.3647,  0.1515, -0.5233],\n",
       "          [-0.3242,  0.0800,  0.1092, -0.5791,  0.1836, -0.0149,  0.2883,\n",
       "           -0.0328, -0.2182, -0.3372, -0.0492, -0.2394],\n",
       "          [ 0.0322,  0.0984,  0.1129, -0.6074, -0.0132,  0.1815,  0.3271,\n",
       "           -0.1948,  0.0117, -0.3029,  0.1721, -0.2846],\n",
       "          [ 0.2228,  0.2979,  0.6784, -0.5898, -0.0638,  0.2018,  0.0296,\n",
       "            0.1056,  0.8542, -0.6952,  0.0594,  0.6466],\n",
       "          [-0.0922,  0.1948,  0.0768, -0.6836,  0.2169, -0.1787,  0.2647,\n",
       "           -0.1188, -0.0349, -0.5315,  0.1619, -0.2546],\n",
       "          [-0.2113,  0.0922,  0.0287, -0.6242,  0.0933,  0.0650,  0.1214,\n",
       "            0.0359, -0.3024, -0.2819,  0.1744, -0.3883]],\n",
       " \n",
       "         [[-0.1816,  0.0524,  0.4060, -0.6128,  0.2378, -0.0758,  0.2916,\n",
       "            0.0612, -0.3953, -0.4215,  0.1360, -0.4581],\n",
       "          [-0.0339, -0.0433,  0.3276, -0.6662,  0.3096, -0.1085,  0.3131,\n",
       "           -0.0320, -0.4655, -0.4426,  0.2353, -0.4381],\n",
       "          [-0.0992,  0.0332,  0.2011, -0.7187,  0.0698, -0.0029,  0.1659,\n",
       "            0.1134, -0.2427, -0.4436,  0.2522, -0.3713],\n",
       "          [-0.1492,  0.1735,  0.2668, -0.7597,  0.0366, -0.0316,  0.0105,\n",
       "            0.0933, -0.2528, -0.4566,  0.2319, -0.3777],\n",
       "          [ 0.1488,  0.0302,  0.2355, -0.9517,  0.1514,  0.2263,  0.3989,\n",
       "            0.0123,  0.1566, -0.5230,  0.3137, -0.2242],\n",
       "          [-0.2895,  0.0760,  0.0369, -0.5933,  0.2028, -0.0793,  0.2373,\n",
       "           -0.0150, -0.2924, -0.3794, -0.0697, -0.3879],\n",
       "          [-0.1082,  0.1232,  0.2906, -0.6569,  0.4549,  0.0299,  0.2558,\n",
       "           -0.1219, -0.3297, -0.5330,  0.1999, -0.4555],\n",
       "          [-0.3183,  0.0529,  0.3167, -0.6311,  0.2405, -0.1626,  0.2416,\n",
       "           -0.1459, -0.2979, -0.5709,  0.1263, -0.3460],\n",
       "          [-0.3012,  0.2974,  0.5682, -0.3416,  0.1638, -0.1353,  0.1630,\n",
       "            0.1320, -0.3816, -0.2397, -0.0645, -0.4112],\n",
       "          [-0.2070,  0.0018,  0.2654, -0.6315,  0.3053, -0.0780,  0.1977,\n",
       "            0.0825, -0.2716, -0.4201,  0.0353, -0.3644]]],\n",
       "        grad_fn=<SliceBackward0>),\n",
       " tensor(2.5666, grad_fn=<NllLossBackward0>),\n",
       " tensor(2.5666, grad_fn=<NllLossBackward0>))"
      ]
     },
     "execution_count": 35,
     "metadata": {},
     "output_type": "execute_result"
    }
   ],
   "source": [
    "model(x, y, y, r, t)"
   ]
  },
  {
   "cell_type": "code",
   "execution_count": null,
   "metadata": {},
   "outputs": [],
   "source": []
  }
 ],
 "metadata": {
  "kernelspec": {
   "display_name": "dec-transformer-route",
   "language": "python",
   "name": "python3"
  },
  "language_info": {
   "codemirror_mode": {
    "name": "ipython",
    "version": 3
   },
   "file_extension": ".py",
   "mimetype": "text/x-python",
   "name": "python",
   "nbconvert_exporter": "python",
   "pygments_lexer": "ipython3",
   "version": "3.11.6"
  }
 },
 "nbformat": 4,
 "nbformat_minor": 2
}
