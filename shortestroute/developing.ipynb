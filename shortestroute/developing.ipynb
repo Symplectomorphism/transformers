{
 "cells": [
  {
   "cell_type": "code",
   "execution_count": 1,
   "metadata": {},
   "outputs": [],
   "source": [
    "from mingpt.utils import set_seed\n",
    "import numpy as np\n",
    "import scipy as sp\n",
    "import torch\n",
    "import torch.nn as nn\n",
    "from torch.nn import functional as F\n",
    "import math\n",
    "from torch.utils.data import Dataset, DataLoader\n",
    "from mingpt.model import GPT\n",
    "from mingpt.trainer import Trainer\n",
    "from mingpt.utils import set_seed, setup_logging, CfgNode as CN\n",
    "import time\n",
    "\n",
    "import routegym.env\n",
    "import networkx as nx"
   ]
  },
  {
   "cell_type": "code",
   "execution_count": 2,
   "metadata": {},
   "outputs": [
    {
     "name": "stdout",
     "output_type": "stream",
     "text": [
      "sparsity = 0.56\n",
      "[[0 0 1 1 0 0 0 1 1 0 0 0]\n",
      " [1 0 0 0 0 1 0 0 1 0 1 0]\n",
      " [1 1 0 1 0 1 0 1 1 1 1 1]\n",
      " [0 1 1 0 0 1 0 0 0 1 1 0]\n",
      " [1 1 1 0 0 1 0 1 0 1 1 0]\n",
      " [0 0 0 1 1 0 0 0 0 0 0 0]\n",
      " [0 1 0 0 1 0 0 0 0 0 1 1]\n",
      " [1 1 0 0 1 1 0 0 1 0 0 0]\n",
      " [1 1 1 0 1 0 1 0 0 0 0 1]\n",
      " [1 0 1 0 1 0 0 0 0 0 0 0]\n",
      " [1 0 1 0 1 0 1 0 1 0 0 1]\n",
      " [1 1 1 1 1 0 1 1 1 0 1 0]]\n",
      "[[-1  1  1  1  1 -1 -1  1  1  1  1  1]\n",
      " [ 1 -1  1  1  1  1  1  1  1 -1  1  1]\n",
      " [ 1  1 -1  1  1  1 -1  1  1  1  1  1]\n",
      " [ 1  1  1 -1 -1  1 -1 -1 -1  1  1  1]\n",
      " [ 1  1  1 -1 -1  1  1  1  1  1  1  1]\n",
      " [-1  1  1  1  1 -1 -1  1 -1 -1 -1 -1]\n",
      " [-1  1 -1 -1  1 -1 -1 -1  1 -1  1  1]\n",
      " [ 1  1  1 -1  1  1 -1 -1  1 -1 -1  1]\n",
      " [ 1  1  1 -1  1 -1  1  1 -1 -1  1  1]\n",
      " [ 1 -1  1  1  1 -1 -1 -1 -1 -1 -1 -1]\n",
      " [ 1  1  1  1  1 -1  1 -1  1 -1 -1  1]\n",
      " [ 1  1  1  1  1 -1  1  1  1 -1  1 -1]]\n"
     ]
    }
   ],
   "source": [
    "node_number = 12\n",
    "\n",
    "env = None\n",
    "while env is None:\n",
    "    try:\n",
    "        A = sp.sparse.random(node_number, node_number, density=0.5, format='csr')\n",
    "        A.data[:] = 1\n",
    "        A = A.todense()\n",
    "        A = np.ma.array(A, mask=np.eye(node_number)).filled(fill_value=0).astype(int)\n",
    "        print(\"sparsity = %.2f\" % (1 - np.sum(A)/A.size))\n",
    "        G = nx.from_numpy_array(A)\n",
    "        env = routegym.env.ShortestRouteEnv(G, 0, 5, random_weights=(1,10))\n",
    "    except:\n",
    "        pass\n",
    "# env.render()\n",
    "print(A)\n",
    "print(env.graph.adj_mat)\n",
    "# print(env.get_dijkstra())"
   ]
  },
  {
   "cell_type": "code",
   "execution_count": 3,
   "metadata": {},
   "outputs": [],
   "source": [
    "for _ in range(30):\n",
    "    env.reset()"
   ]
  },
  {
   "cell_type": "code",
   "execution_count": 4,
   "metadata": {},
   "outputs": [
    {
     "name": "stdout",
     "output_type": "stream",
     "text": [
      "Position: {10, 8, 4, 8, 11, 6, 6, 6, 4, 5, }\n",
      "\n",
      "Final reward: -9.00\n"
     ]
    },
    {
     "data": {
      "text/plain": [
       "True"
      ]
     },
     "execution_count": 4,
     "metadata": {},
     "output_type": "execute_result"
    }
   ],
   "source": [
    "rew = 0\n",
    "position = 0\n",
    "env.reset()\n",
    "done = False\n",
    "print(\"Position: {\", end='')\n",
    "while not done:\n",
    "    action = np.random.choice(np.arange(0, env.graph.adj_mat.shape[0]))\n",
    "    position, reward, done, _ = env.step(action)\n",
    "    # env.render()\n",
    "    print(\"%d, \" % position, end='')\n",
    "    rew += reward\n",
    "print(\"}\\n\")\n",
    "print(\"Final reward: %.2f\" % rew)\n",
    "env.reset()\n",
    "done"
   ]
  },
  {
   "cell_type": "code",
   "execution_count": 5,
   "metadata": {},
   "outputs": [],
   "source": [
    "env.reset()\n",
    "\n",
    "num_steps = 10_000\n",
    "\n",
    "def create_dataset():\n",
    "    obss = []\n",
    "    actions = []\n",
    "    returns = [0]\n",
    "    done_idxs = []\n",
    "    stepwise_returns = []\n",
    "\n",
    "    # simulate to create trajectories\n",
    "    transitions_per_buffer = np.zeros(50, dtype=int)\n",
    "    num_trajectories = 0\n",
    "    while len(obss) < num_steps:\n",
    "        done = False\n",
    "        for _ in range(10):\n",
    "            ac = np.random.choice(np.arange(0, env.graph.adj_mat.shape[0]))\n",
    "            state, reward, done, _ = env.step(ac)\n",
    "            obss += [state]\n",
    "            actions += [ac]\n",
    "            stepwise_returns += [reward]\n",
    "            returns[-1] += reward\n",
    "        # done = False\n",
    "        env.reset()\n",
    "        done_idxs += [len(obss)]\n",
    "        returns += [0]\n",
    "\n",
    "    actions = np.array(actions)\n",
    "    returns = np.array(returns)\n",
    "    stepwise_returns = np.array(stepwise_returns)\n",
    "    done_idxs = np.array(done_idxs)\n",
    "\n",
    "    # create reward-to-go dataset\n",
    "    start_index = 0\n",
    "    rtg = np.zeros_like(stepwise_returns)\n",
    "    for i in done_idxs:\n",
    "        i = int(i)\n",
    "        curr_traj_returns = stepwise_returns[start_index:i]\n",
    "        for j in range(i-1, start_index-1, -1): # start from i-1\n",
    "            rtg_j = curr_traj_returns[j-start_index:i-start_index]\n",
    "            rtg[j] = sum(rtg_j)\n",
    "        start_index = i\n",
    "    print('max rtg is %d' % max(rtg))\n",
    "\n",
    "    # create timestep dataset\n",
    "    start_index = 0\n",
    "    timesteps = np.zeros(len(actions)+1, dtype=int)\n",
    "    for i in done_idxs:\n",
    "        i = int(i)\n",
    "        timesteps[start_index:i+1] = np.arange(i+1 - start_index)\n",
    "        start_index = i+1\n",
    "    print('max timesteps is %d' % max(timesteps))\n",
    "\n",
    "    return obss, actions, returns, done_idxs, rtg, timesteps"
   ]
  },
  {
   "cell_type": "code",
   "execution_count": 6,
   "metadata": {},
   "outputs": [
    {
     "name": "stdout",
     "output_type": "stream",
     "text": [
      "max rtg is 0\n",
      "max timesteps is 10\n",
      "-7.0\n"
     ]
    },
    {
     "data": {
      "text/plain": [
       "array([4, 5, 6, 7, 8, 9, 0, 1, 2, 3, 4, 5, 6, 7, 8, 9])"
      ]
     },
     "execution_count": 6,
     "metadata": {},
     "output_type": "execute_result"
    }
   ],
   "source": [
    "obss, actions, returns, done_idxs, rtgs, timesteps = create_dataset()\n",
    "print(returns[:-1].max())\n",
    "timesteps[25:41]"
   ]
  },
  {
   "cell_type": "code",
   "execution_count": 7,
   "metadata": {},
   "outputs": [],
   "source": [
    "class StateActionReturnDataset(Dataset):\n",
    "\n",
    "    @staticmethod\n",
    "    def get_default_config():\n",
    "        C = CN()\n",
    "        C.block_size = 10 * 3\n",
    "        return C\n",
    "\n",
    "    def __init__(self, data, block_size, actions, done_idxs, rtgs, timesteps):\n",
    "        self.block_size = block_size\n",
    "        self.vocab_size = max(actions) + 1\n",
    "        self.data = data\n",
    "        self.actions = actions\n",
    "        self.done_idxs = done_idxs\n",
    "        self.rtgs = rtgs\n",
    "        self.timesteps = timesteps\n",
    "\n",
    "    def __len__(self):\n",
    "        return len(self.data) - self.block_size\n",
    "\n",
    "    def __getitem__(self, idx):\n",
    "        block_size = self.block_size // 3\n",
    "        done_idx = idx + block_size\n",
    "        for i in self.done_idxs:\n",
    "            if i > idx: # first done_idx is greater than idx\n",
    "                done_idx = min(int(i), done_idx)\n",
    "                break\n",
    "        idx = done_idx - block_size\n",
    "        states = torch.tensor(np.array(self.data[idx:done_idx]), dtype=torch.float32).reshape(block_size, -1) # (block_size, state_dim)\n",
    "        actions = torch.tensor(self.actions[idx:done_idx], dtype=torch.long).unsqueeze(1) # (block_size, 1)\n",
    "        rtgs = torch.tensor(self.rtgs[idx:done_idx], dtype=torch.float32).unsqueeze(1) # (block_size, 1)\n",
    "        timesteps = torch.tensor(self.timesteps[idx:idx+1], dtype=torch.int64).unsqueeze(1) # (block_size, 1)\n",
    "\n",
    "        return states, actions, rtgs, timesteps"
   ]
  },
  {
   "cell_type": "code",
   "execution_count": 8,
   "metadata": {},
   "outputs": [],
   "source": [
    "C = CN()\n",
    "\n",
    "# system\n",
    "C.system = CN()\n",
    "C.system.seed = 3407\n",
    "C.system.work_dir = './out/decgpt'\n",
    "\n",
    "# data\n",
    "C.data = StateActionReturnDataset.get_default_config()\n",
    "\n",
    "# model \n",
    "C.model = GPT.get_default_config()\n",
    "C.model.model_type = 'gpt-mini'\n",
    "\n",
    "# trainer\n",
    "C.trainer = Trainer.get_default_config()\n",
    "C.trainer.learning_rate = 5e-4\n",
    "C.num_workers = 0"
   ]
  },
  {
   "cell_type": "code",
   "execution_count": 9,
   "metadata": {},
   "outputs": [],
   "source": [
    "train_dataset = StateActionReturnDataset(obss, 10 * 3, actions, done_idxs, rtgs, timesteps)\n"
   ]
  },
  {
   "cell_type": "code",
   "execution_count": 10,
   "metadata": {},
   "outputs": [
    {
     "data": {
      "text/plain": [
       "10"
      ]
     },
     "execution_count": 10,
     "metadata": {},
     "output_type": "execute_result"
    }
   ],
   "source": [
    "C.model.vocab_size = train_dataset.vocab_size\n",
    "C.model.block_size = train_dataset.block_size\n",
    "C.model.max_timestep = max(timesteps)\n",
    "C.model.max_timestep"
   ]
  },
  {
   "cell_type": "code",
   "execution_count": 11,
   "metadata": {},
   "outputs": [
    {
     "name": "stdout",
     "output_type": "stream",
     "text": [
      "number of parameters: 2.68M\n"
     ]
    }
   ],
   "source": [
    "model = GPT(C.model)"
   ]
  },
  {
   "cell_type": "code",
   "execution_count": 12,
   "metadata": {},
   "outputs": [],
   "source": [
    "loader = DataLoader(train_dataset, shuffle=True, pin_memory=True, batch_size=4)"
   ]
  },
  {
   "cell_type": "code",
   "execution_count": 13,
   "metadata": {},
   "outputs": [],
   "source": [
    "for _ in range(121):\n",
    "    x, y, r, t = next(iter(loader))"
   ]
  },
  {
   "cell_type": "code",
   "execution_count": 14,
   "metadata": {},
   "outputs": [],
   "source": [
    "x, y, r, t = next(iter(loader))"
   ]
  },
  {
   "cell_type": "code",
   "execution_count": 15,
   "metadata": {},
   "outputs": [
    {
     "data": {
      "text/plain": [
       "(tensor([[[ 3.8666e-01,  2.1245e-01, -3.4453e-01,  4.4208e-01, -5.8358e-02,\n",
       "           -2.9310e-01, -2.4434e-01,  3.8065e-01,  2.6474e-02,  4.3546e-03,\n",
       "            5.3917e-01, -4.1469e-01],\n",
       "          [ 5.5075e-02,  1.4508e-01, -1.7453e-01,  3.5379e-01, -1.7336e-02,\n",
       "           -7.8334e-02, -7.2987e-02,  1.1662e-01, -1.3516e-01,  1.5920e-02,\n",
       "            9.6956e-02, -2.7739e-01],\n",
       "          [ 1.7238e-01,  1.7261e-01, -1.4925e-01,  5.2335e-01, -7.6339e-02,\n",
       "           -3.5101e-01, -1.5231e-01,  3.2233e-01,  1.4798e-02,  5.9480e-02,\n",
       "            5.2817e-01, -1.9191e-01],\n",
       "          [ 1.4687e-01,  4.4773e-02, -3.4282e-01,  5.4251e-01, -1.3046e-01,\n",
       "           -3.0370e-01, -1.5873e-01,  4.4630e-01, -3.3291e-01, -2.7482e-01,\n",
       "            5.3937e-01, -4.4995e-01],\n",
       "          [-2.9000e-02,  1.3836e-01, -2.4196e-01,  4.3282e-01, -2.7540e-01,\n",
       "           -3.6383e-01, -1.4357e-01,  2.5607e-01, -1.4950e-01, -3.7607e-02,\n",
       "            3.2920e-01, -2.4455e-01],\n",
       "          [ 9.7448e-02,  4.7449e-02, -2.3938e-01,  3.5732e-01, -2.7361e-01,\n",
       "           -5.5950e-01, -9.6318e-02,  4.0882e-01, -1.3923e-01,  9.7585e-02,\n",
       "            4.0535e-01, -3.6913e-01],\n",
       "          [-1.1494e-02, -4.1809e-02, -2.4433e-01,  2.0635e-01,  2.1763e-02,\n",
       "           -1.8473e-01,  3.0657e-02, -3.7842e-02, -9.6638e-03,  2.4378e-01,\n",
       "            2.2218e-01, -2.4653e-01],\n",
       "          [ 8.8491e-02,  1.3188e-01, -3.6308e-02,  1.7362e-01,  4.0866e-01,\n",
       "            9.5286e-02,  2.5344e-01, -1.5719e-01, -1.6621e-01,  1.5105e-01,\n",
       "           -1.5304e-01, -3.7861e-01],\n",
       "          [-1.2195e-02,  2.1743e-01, -8.8815e-02,  3.9334e-01, -2.7092e-02,\n",
       "           -2.5112e-01, -8.4967e-02,  1.3033e-01,  5.2564e-02,  1.0002e-01,\n",
       "            3.3732e-01, -2.2188e-01],\n",
       "          [-1.2197e-02, -3.2410e-02, -2.1049e-01,  4.8283e-01,  7.4345e-02,\n",
       "           -4.7664e-01, -1.1380e-01,  2.5978e-01, -1.0419e-01, -1.0143e-01,\n",
       "            2.7788e-01, -3.3271e-01]],\n",
       " \n",
       "         [[ 8.7273e-02,  1.2137e-01, -1.9392e-01, -1.2402e-03,  3.6538e-02,\n",
       "            2.4663e-01, -2.9132e-02, -4.1528e-02,  1.7906e-01,  2.1428e-01,\n",
       "            1.2547e-02, -3.3825e-01],\n",
       "          [ 1.6806e-01,  1.8773e-01, -2.3067e-01,  2.0355e-02,  6.3757e-02,\n",
       "           -2.4879e-01,  7.8275e-02, -2.0780e-02,  7.4137e-02,  2.2442e-01,\n",
       "            9.7022e-02, -1.1470e-01],\n",
       "          [ 9.8184e-02,  1.3376e-02, -2.0590e-01,  5.5298e-01, -1.9403e-01,\n",
       "           -4.7261e-01, -6.3053e-02,  3.8812e-01,  1.0524e-01, -2.6678e-03,\n",
       "            4.2639e-01, -2.8918e-01],\n",
       "          [-3.3803e-02, -8.7429e-02, -2.3135e-01,  3.0962e-01, -2.1310e-01,\n",
       "           -2.2252e-01, -1.3146e-01,  2.6339e-01, -6.6041e-02, -6.4524e-03,\n",
       "            4.9119e-01, -1.6095e-01],\n",
       "          [ 1.2512e-01,  3.2901e-03, -1.4047e-01,  3.7146e-01, -7.7710e-02,\n",
       "           -3.2093e-01, -3.0424e-02,  1.6750e-01, -7.4402e-03,  3.4906e-02,\n",
       "            3.0153e-01, -2.8419e-01],\n",
       "          [ 2.9166e-02, -1.4693e-01, -3.2979e-01,  4.1218e-01, -3.5484e-01,\n",
       "           -3.4609e-01, -8.0672e-02,  5.6528e-01, -5.7444e-02, -1.0756e-01,\n",
       "            4.3970e-01, -2.1402e-01],\n",
       "          [-1.5860e-01, -8.0164e-03, -2.5756e-02,  4.9151e-01,  3.7069e-04,\n",
       "           -2.5614e-01, -1.7855e-02,  2.7810e-01,  1.3227e-01, -5.3873e-02,\n",
       "            3.4126e-01, -1.3837e-01],\n",
       "          [ 3.7929e-02,  6.0431e-02, -1.6816e-01,  3.8976e-01, -1.1856e-01,\n",
       "           -2.9740e-01, -4.4002e-02,  2.9500e-01, -1.2080e-01,  2.2192e-02,\n",
       "            3.1568e-01, -3.3387e-01],\n",
       "          [ 9.7393e-02,  1.7128e-01, -9.8174e-02,  3.1536e-01, -1.2678e-01,\n",
       "           -3.3903e-01,  8.7850e-03,  3.5981e-02, -9.6971e-02, -7.1876e-02,\n",
       "            3.6481e-01, -1.5541e-01],\n",
       "          [ 3.0782e-02, -1.1637e-01, -2.1984e-01,  5.7018e-01, -2.0575e-01,\n",
       "           -4.4685e-01, -1.0316e-01,  3.4209e-01,  6.6503e-02, -8.7835e-02,\n",
       "            3.9141e-01, -4.0581e-01]],\n",
       " \n",
       "         [[-2.4089e-02, -3.0948e-02, -2.5884e-01,  4.4637e-01, -2.5176e-01,\n",
       "           -3.0290e-01, -8.4681e-02,  2.6150e-01,  1.3000e-02,  2.2383e-02,\n",
       "            4.8868e-01, -2.9535e-01],\n",
       "          [ 1.3359e-01,  1.1166e-01, -2.5865e-01,  5.1545e-01, -2.1602e-01,\n",
       "           -3.2861e-01, -1.5589e-01,  4.4546e-01, -3.2174e-03, -1.2712e-01,\n",
       "            4.2668e-01, -4.7129e-01],\n",
       "          [ 7.8794e-02, -1.3222e-02, -2.9962e-01,  3.2394e-01, -1.2635e-01,\n",
       "           -4.3748e-01, -1.0140e-01,  3.2688e-01,  4.0115e-02,  5.3110e-02,\n",
       "            3.7269e-01, -3.5985e-01],\n",
       "          [ 3.4951e-02,  6.4984e-02, -1.9162e-01,  4.8073e-01, -6.2876e-02,\n",
       "           -4.4681e-01, -8.2569e-02,  3.6721e-01,  4.6159e-02, -1.6803e-02,\n",
       "            4.8318e-01, -4.0015e-01],\n",
       "          [ 6.0374e-02,  2.0755e-02, -2.2664e-01,  5.2952e-01, -1.6608e-01,\n",
       "           -5.1161e-01, -2.2107e-01,  3.2016e-01,  6.9401e-02, -3.2213e-02,\n",
       "            4.1884e-01, -4.0724e-01],\n",
       "          [-5.2773e-02,  1.6350e-01, -1.0617e-01,  2.3768e-01,  1.2888e-02,\n",
       "           -1.8253e-01, -1.2721e-01, -6.9360e-02, -1.1060e-02,  1.2725e-01,\n",
       "            2.4977e-01, -1.9046e-01],\n",
       "          [-6.7720e-02, -1.2961e-04, -1.8980e-01,  3.7241e-01, -1.0711e-01,\n",
       "           -3.8037e-01, -5.4451e-02,  2.9659e-01, -2.7617e-02, -8.3011e-02,\n",
       "            3.5586e-01, -2.7862e-01],\n",
       "          [ 2.0140e-01,  1.1988e-01, -1.6871e-01,  4.5617e-01, -1.9103e-01,\n",
       "           -4.5697e-01, -1.8246e-01,  5.2254e-01, -2.3538e-02, -7.4732e-02,\n",
       "            3.5002e-01, -3.0116e-01],\n",
       "          [ 3.0111e-02, -1.6286e-01, -1.3254e-01,  3.6624e-01, -8.7260e-02,\n",
       "           -2.8310e-01, -1.4395e-01,  1.4409e-01,  4.6280e-03,  1.1691e-01,\n",
       "            3.4030e-01, -4.5347e-01],\n",
       "          [ 6.2970e-02,  2.2998e-02, -1.4945e-01,  4.6869e-01, -9.7660e-02,\n",
       "           -4.5101e-01, -9.2062e-02,  4.4866e-01, -6.3537e-02, -6.6596e-02,\n",
       "            3.8154e-01, -4.6528e-01]],\n",
       " \n",
       "         [[-6.2720e-02, -1.2803e-01, -2.2087e-02,  3.9992e-01,  6.6551e-02,\n",
       "           -2.1831e-01, -3.7693e-02,  9.3389e-02, -1.0991e-01,  1.2811e-01,\n",
       "            3.7028e-01, -3.2189e-01],\n",
       "          [ 1.7944e-01,  1.6336e-02, -2.5458e-01,  4.9151e-01, -2.8289e-02,\n",
       "           -4.3463e-01, -1.1543e-01,  3.9272e-01, -4.3606e-02, -6.5203e-02,\n",
       "            3.5333e-01, -4.2814e-01],\n",
       "          [ 4.4236e-02,  1.0365e-01, -6.8861e-02,  6.4674e-01,  6.9307e-03,\n",
       "           -3.5504e-01,  6.6401e-03,  4.0688e-01, -1.2620e-02,  1.1156e-01,\n",
       "            3.2259e-01, -3.4596e-01],\n",
       "          [ 4.6288e-02,  7.0440e-02, -2.8329e-01,  4.1801e-01,  4.1443e-02,\n",
       "           -3.3115e-01, -4.0270e-02,  2.7064e-01, -1.3397e-01,  9.4588e-02,\n",
       "            4.5614e-01, -2.6406e-01],\n",
       "          [ 1.6189e-01,  4.1071e-03, -2.4366e-02,  3.4664e-01,  1.9483e-02,\n",
       "           -1.8873e-01, -9.5205e-02,  5.6072e-02, -4.9108e-02,  1.5060e-02,\n",
       "            1.8703e-01, -2.7002e-01],\n",
       "          [ 2.1490e-02, -1.0232e-01, -2.0620e-01,  4.6182e-01,  3.1117e-02,\n",
       "           -4.7369e-01,  6.7860e-02,  1.8328e-01, -1.0494e-01,  2.1780e-02,\n",
       "            2.3765e-02, -5.6465e-01],\n",
       "          [ 1.1636e-01,  8.8039e-02, -1.6934e-01, -1.6104e-03,  8.1798e-03,\n",
       "            1.0040e-01,  2.1444e-01, -3.4038e-01, -2.0036e-01,  6.4716e-03,\n",
       "           -1.8498e-01, -2.0456e-01],\n",
       "          [ 8.8846e-02,  3.2486e-01, -3.0603e-01,  5.4496e-01, -2.6096e-02,\n",
       "           -4.6750e-01, -4.3315e-01,  2.8682e-01,  9.2408e-04, -8.0983e-02,\n",
       "            3.7685e-01, -2.8666e-01],\n",
       "          [ 6.8119e-02,  1.5000e-02, -1.5945e-01,  3.4917e-01, -1.4004e-01,\n",
       "           -3.4838e-01, -8.8746e-02,  1.7771e-01,  6.9350e-02,  1.3314e-01,\n",
       "            4.5775e-01, -1.6322e-01],\n",
       "          [-2.5972e-02,  6.1199e-03, -5.4256e-02,  2.4451e-01, -2.5805e-01,\n",
       "           -7.8605e-02,  4.5394e-02, -1.1037e-01, -1.9763e-01,  4.9485e-02,\n",
       "            3.3166e-02, -2.2181e-01]]], grad_fn=<SliceBackward0>),\n",
       " tensor(2.5338, grad_fn=<NllLossBackward0>))"
      ]
     },
     "execution_count": 15,
     "metadata": {},
     "output_type": "execute_result"
    }
   ],
   "source": [
    "model(x, y, y, r, t)"
   ]
  },
  {
   "cell_type": "code",
   "execution_count": 16,
   "metadata": {},
   "outputs": [
    {
     "name": "stdout",
     "output_type": "stream",
     "text": [
      "running on device cuda\n"
     ]
    }
   ],
   "source": [
    "trainer = Trainer(model, train_dataset, C.trainer)"
   ]
  },
  {
   "cell_type": "code",
   "execution_count": 17,
   "metadata": {},
   "outputs": [
    {
     "name": "stderr",
     "output_type": "stream",
     "text": [
      "/home/icute/mambaforge/envs/dec-transformer-route/lib/python3.11/multiprocessing/popen_fork.py:66: RuntimeWarning: os.fork() was called. os.fork() is incompatible with multithreaded code, and JAX is multithreaded, so this will likely lead to a deadlock.\n",
      "  self.pid = os.fork()\n",
      "epoch 1 iter 155: train loss 1.02512. lr 5.000000e-04:  99%|█████████▉| 155/156 [00:02<00:00, 67.96it/s]/home/icute/mambaforge/envs/dec-transformer-route/lib/python3.11/multiprocessing/popen_fork.py:66: RuntimeWarning: os.fork() was called. os.fork() is incompatible with multithreaded code, and JAX is multithreaded, so this will likely lead to a deadlock.\n",
      "  self.pid = os.fork()\n",
      "epoch 1 iter 155: train loss 1.02512. lr 5.000000e-04: 100%|██████████| 156/156 [00:02<00:00, 61.34it/s]\n",
      "epoch 2 iter 155: train loss 1.07145. lr 5.000000e-04: 100%|██████████| 156/156 [00:02<00:00, 66.63it/s]\n",
      "epoch 3 iter 155: train loss 0.84732. lr 5.000000e-04: 100%|██████████| 156/156 [00:02<00:00, 66.63it/s]\n",
      "epoch 4 iter 155: train loss 0.83736. lr 5.000000e-04: 100%|██████████| 156/156 [00:02<00:00, 66.95it/s]\n",
      "epoch 5 iter 155: train loss 0.90317. lr 5.000000e-04: 100%|██████████| 156/156 [00:02<00:00, 66.39it/s]\n",
      "epoch 6 iter 155: train loss 0.66238. lr 5.000000e-04: 100%|██████████| 156/156 [00:02<00:00, 66.33it/s]\n",
      "epoch 7 iter 155: train loss 0.59755. lr 5.000000e-04: 100%|██████████| 156/156 [00:02<00:00, 66.55it/s]\n",
      "epoch 8 iter 155: train loss 0.58859. lr 5.000000e-04: 100%|██████████| 156/156 [00:02<00:00, 66.36it/s]\n",
      "epoch 9 iter 155: train loss 0.58411. lr 5.000000e-04: 100%|██████████| 156/156 [00:02<00:00, 66.43it/s]\n",
      "epoch 10 iter 155: train loss 0.64768. lr 5.000000e-04: 100%|██████████| 156/156 [00:02<00:00, 66.60it/s]\n"
     ]
    }
   ],
   "source": [
    "trainer.run()"
   ]
  },
  {
   "cell_type": "code",
   "execution_count": null,
   "metadata": {},
   "outputs": [],
   "source": []
  }
 ],
 "metadata": {
  "kernelspec": {
   "display_name": "dec-transformer-route",
   "language": "python",
   "name": "python3"
  },
  "language_info": {
   "codemirror_mode": {
    "name": "ipython",
    "version": 3
   },
   "file_extension": ".py",
   "mimetype": "text/x-python",
   "name": "python",
   "nbconvert_exporter": "python",
   "pygments_lexer": "ipython3",
   "version": "3.11.6"
  }
 },
 "nbformat": 4,
 "nbformat_minor": 2
}
