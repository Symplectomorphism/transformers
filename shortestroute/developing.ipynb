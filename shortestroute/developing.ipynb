{
 "cells": [
  {
   "cell_type": "code",
   "execution_count": 1,
   "metadata": {},
   "outputs": [],
   "source": [
    "from mingpt.utils import set_seed\n",
    "import numpy as np\n",
    "import scipy as sp\n",
    "import torch\n",
    "import torch.nn as nn\n",
    "from torch.nn import functional as F\n",
    "import math\n",
    "from torch.utils.data import Dataset, DataLoader\n",
    "from mingpt.model import GPT\n",
    "from mingpt.trainer import Trainer\n",
    "from mingpt.utils import set_seed, setup_logging, CfgNode as CN\n",
    "import time\n",
    "\n",
    "import routegym.env\n",
    "import networkx as nx"
   ]
  },
  {
   "cell_type": "code",
   "execution_count": 2,
   "metadata": {},
   "outputs": [
    {
     "name": "stdout",
     "output_type": "stream",
     "text": [
      "sparsity = 0.54\n",
      "[[0 0 1 0 1 0 1 1 1 1 1 1]\n",
      " [1 0 0 0 1 1 0 1 1 1 0 1]\n",
      " [1 1 0 1 0 0 1 0 1 0 1 0]\n",
      " [1 0 0 0 1 0 1 0 0 0 0 1]\n",
      " [0 1 1 1 0 1 0 1 1 1 0 0]\n",
      " [0 0 0 0 1 0 1 0 0 1 0 0]\n",
      " [1 1 0 1 0 1 0 1 0 0 0 0]\n",
      " [1 0 0 0 1 0 1 0 0 1 0 1]\n",
      " [1 0 1 1 1 1 1 1 0 0 0 1]\n",
      " [1 0 1 1 1 0 0 0 1 0 1 0]\n",
      " [0 1 0 1 0 0 1 0 1 0 0 0]\n",
      " [0 0 0 0 1 0 0 1 1 0 0 0]]\n",
      "[[-1  1  1  1  1 -1  1  1  1  1  1  1]\n",
      " [ 1 -1  1 -1  1  1  1  1  1  1  1  1]\n",
      " [ 1  1 -1  1  1 -1  1 -1  1  1  1 -1]\n",
      " [ 1 -1  1 -1  1 -1  1 -1  1  1  1  1]\n",
      " [ 1  1  1  1 -1  1 -1  1  1  1 -1  1]\n",
      " [-1  1 -1 -1  1 -1  1 -1  1  1 -1 -1]\n",
      " [ 1  1  1  1 -1  1 -1  1  1 -1  1 -1]\n",
      " [ 1  1 -1 -1  1 -1  1 -1  1  1 -1  1]\n",
      " [ 1  1  1  1  1  1  1  1 -1  1  1  1]\n",
      " [ 1  1  1  1  1  1 -1  1  1 -1  1 -1]\n",
      " [ 1  1  1  1 -1 -1  1 -1  1  1 -1 -1]\n",
      " [ 1  1 -1  1  1 -1 -1  1  1 -1 -1 -1]]\n"
     ]
    }
   ],
   "source": [
    "node_number = 12\n",
    "\n",
    "env = None\n",
    "while env is None:\n",
    "    try:\n",
    "        A = sp.sparse.random(node_number, node_number, density=0.5, format='csr')\n",
    "        A.data[:] = 1\n",
    "        A = A.todense()\n",
    "        A = np.ma.array(A, mask=np.eye(node_number)).filled(fill_value=0).astype(int)\n",
    "        print(\"sparsity = %.2f\" % (1 - np.sum(A)/A.size))\n",
    "        G = nx.from_numpy_array(A)\n",
    "        env = routegym.env.ShortestRouteEnv(G, 0, 5, random_weights=(1,10))\n",
    "    except:\n",
    "        pass\n",
    "# env.render()\n",
    "print(A)\n",
    "print(env.graph.adj_mat)\n",
    "# print(env.get_dijkstra())"
   ]
  },
  {
   "cell_type": "code",
   "execution_count": 3,
   "metadata": {},
   "outputs": [],
   "source": [
    "for _ in range(30):\n",
    "    env.reset()"
   ]
  },
  {
   "cell_type": "code",
   "execution_count": 4,
   "metadata": {},
   "outputs": [
    {
     "name": "stdout",
     "output_type": "stream",
     "text": [
      "Position: {1, 9, 9, 9, 5, }\n",
      "\n",
      "Final reward: -4.00\n"
     ]
    },
    {
     "data": {
      "text/plain": [
       "True"
      ]
     },
     "execution_count": 4,
     "metadata": {},
     "output_type": "execute_result"
    }
   ],
   "source": [
    "rew = 0\n",
    "position = 0\n",
    "env.reset()\n",
    "done = False\n",
    "print(\"Position: {\", end='')\n",
    "while not done:\n",
    "    action = np.random.choice(np.arange(0, env.graph.adj_mat.shape[0]))\n",
    "    position, reward, done, _ = env.step(action)\n",
    "    # env.render()\n",
    "    print(\"%d, \" % position, end='')\n",
    "    rew += reward\n",
    "print(\"}\\n\")\n",
    "print(\"Final reward: %.2f\" % rew)\n",
    "env.reset()\n",
    "done"
   ]
  },
  {
   "cell_type": "code",
   "execution_count": 5,
   "metadata": {},
   "outputs": [],
   "source": [
    "env.reset()\n",
    "\n",
    "num_steps = 10_000\n",
    "\n",
    "def create_dataset():\n",
    "    obss = []\n",
    "    actions = []\n",
    "    returns = [0]\n",
    "    done_idxs = []\n",
    "    stepwise_returns = []\n",
    "\n",
    "    # simulate to create trajectories\n",
    "    transitions_per_buffer = np.zeros(50, dtype=int)\n",
    "    num_trajectories = 0\n",
    "    while len(obss) < num_steps:\n",
    "        done = False\n",
    "        for _ in range(10):\n",
    "            ac = np.random.choice(np.arange(0, env.graph.adj_mat.shape[0]))\n",
    "            state, reward, done, _ = env.step(ac)\n",
    "            obss += [state]\n",
    "            actions += [ac]\n",
    "            stepwise_returns += [reward]\n",
    "            returns[-1] += reward\n",
    "        # done = False\n",
    "        env.reset()\n",
    "        done_idxs += [len(obss)]\n",
    "        returns += [0]\n",
    "\n",
    "    actions = np.array(actions)\n",
    "    returns = np.array(returns)\n",
    "    stepwise_returns = np.array(stepwise_returns)\n",
    "    done_idxs = np.array(done_idxs)\n",
    "\n",
    "    # create reward-to-go dataset\n",
    "    start_index = 0\n",
    "    rtg = np.zeros_like(stepwise_returns)\n",
    "    for i in done_idxs:\n",
    "        i = int(i)\n",
    "        curr_traj_returns = stepwise_returns[start_index:i]\n",
    "        for j in range(i-1, start_index-1, -1): # start from i-1\n",
    "            rtg_j = curr_traj_returns[j-start_index:i-start_index]\n",
    "            rtg[j] = sum(rtg_j)\n",
    "        start_index = i\n",
    "    print('max rtg is %d' % max(rtg))\n",
    "\n",
    "    # create timestep dataset\n",
    "    start_index = 0\n",
    "    timesteps = np.zeros(len(actions)+1, dtype=int)\n",
    "    for i in done_idxs:\n",
    "        i = int(i)\n",
    "        timesteps[start_index:i+1] = np.arange(i+1 - start_index)\n",
    "        start_index = i+1\n",
    "    print('max timesteps is %d' % max(timesteps))\n",
    "\n",
    "    return obss, actions, returns, done_idxs, rtg, timesteps"
   ]
  },
  {
   "cell_type": "code",
   "execution_count": 6,
   "metadata": {},
   "outputs": [
    {
     "name": "stdout",
     "output_type": "stream",
     "text": [
      "max rtg is 0\n",
      "max timesteps is 10\n",
      "-7.0\n"
     ]
    },
    {
     "data": {
      "text/plain": [
       "array([4, 5, 6, 7, 8, 9, 0, 1, 2, 3, 4, 5, 6, 7, 8, 9])"
      ]
     },
     "execution_count": 6,
     "metadata": {},
     "output_type": "execute_result"
    }
   ],
   "source": [
    "obss, actions, returns, done_idxs, rtgs, timesteps = create_dataset()\n",
    "print(returns[:-1].max())\n",
    "timesteps[25:41]"
   ]
  },
  {
   "cell_type": "code",
   "execution_count": 7,
   "metadata": {},
   "outputs": [],
   "source": [
    "class StateActionReturnDataset(Dataset):\n",
    "\n",
    "    @staticmethod\n",
    "    def get_default_config():\n",
    "        C = CN()\n",
    "        C.block_size = 10 * 3\n",
    "        return C\n",
    "\n",
    "    def __init__(self, data, block_size, actions, done_idxs, rtgs, timesteps):\n",
    "        self.block_size = block_size\n",
    "        self.vocab_size = max(actions) + 1\n",
    "        self.data = data\n",
    "        self.actions = actions\n",
    "        self.done_idxs = done_idxs\n",
    "        self.rtgs = rtgs\n",
    "        self.timesteps = timesteps\n",
    "\n",
    "    def __len__(self):\n",
    "        return len(self.data) - self.block_size\n",
    "\n",
    "    def __getitem__(self, idx):\n",
    "        block_size = self.block_size // 3\n",
    "        done_idx = idx + block_size\n",
    "        for i in self.done_idxs:\n",
    "            if i > idx: # first done_idx is greater than idx\n",
    "                done_idx = min(int(i), done_idx)\n",
    "                break\n",
    "        idx = done_idx - block_size\n",
    "        states = torch.tensor(np.array(self.data[idx:done_idx]), dtype=torch.float32).reshape(block_size, -1) # (block_size, state_dim)\n",
    "        actions = torch.tensor(self.actions[idx:done_idx], dtype=torch.long).unsqueeze(1) # (block_size, 1)\n",
    "        rtgs = torch.tensor(self.rtgs[idx:done_idx], dtype=torch.float32).unsqueeze(1) # (block_size, 1)\n",
    "        timesteps = torch.tensor(self.timesteps[idx:idx+1], dtype=torch.int64).unsqueeze(1) # (block_size, 1)\n",
    "\n",
    "        return states, actions, rtgs, timesteps"
   ]
  },
  {
   "cell_type": "code",
   "execution_count": 8,
   "metadata": {},
   "outputs": [],
   "source": [
    "C = CN()\n",
    "\n",
    "# system\n",
    "C.system = CN()\n",
    "C.system.seed = 3407\n",
    "C.system.work_dir = './out/decgpt'\n",
    "\n",
    "# data\n",
    "C.data = StateActionReturnDataset.get_default_config()\n",
    "\n",
    "# model \n",
    "C.model = GPT.get_default_config()\n",
    "C.model.model_type = 'gpt-mini'\n",
    "\n",
    "# trainer\n",
    "C.trainer = Trainer.get_default_config()\n",
    "C.trainer.learning_rate = 5e-4"
   ]
  },
  {
   "cell_type": "code",
   "execution_count": 9,
   "metadata": {},
   "outputs": [],
   "source": [
    "train_dataset = StateActionReturnDataset(obss, 10 * 3, actions, done_idxs, rtgs, timesteps)\n"
   ]
  },
  {
   "cell_type": "code",
   "execution_count": 10,
   "metadata": {},
   "outputs": [
    {
     "data": {
      "text/plain": [
       "10"
      ]
     },
     "execution_count": 10,
     "metadata": {},
     "output_type": "execute_result"
    }
   ],
   "source": [
    "\n",
    "C.model.vocab_size = train_dataset.vocab_size\n",
    "C.model.block_size = train_dataset.block_size\n",
    "C.model.max_timestep = max(timesteps)\n",
    "C.model.max_timestep"
   ]
  },
  {
   "cell_type": "code",
   "execution_count": 11,
   "metadata": {},
   "outputs": [
    {
     "name": "stdout",
     "output_type": "stream",
     "text": [
      "number of parameters: 2.68M\n"
     ]
    }
   ],
   "source": [
    "model = GPT(C.model)"
   ]
  },
  {
   "cell_type": "code",
   "execution_count": 12,
   "metadata": {},
   "outputs": [],
   "source": [
    "loader = DataLoader(train_dataset, shuffle=True, pin_memory=True, batch_size=4)"
   ]
  },
  {
   "cell_type": "code",
   "execution_count": 13,
   "metadata": {},
   "outputs": [],
   "source": [
    "x, y, r, t = next(iter(loader))"
   ]
  },
  {
   "cell_type": "code",
   "execution_count": 14,
   "metadata": {},
   "outputs": [
    {
     "name": "stdout",
     "output_type": "stream",
     "text": [
      "tensor([[[0., 0., 0.,  ..., 0., 0., 0.],\n",
      "         [0., 0., 0.,  ..., 0., 0., 0.],\n",
      "         [0., 0., 0.,  ..., 0., 0., 0.],\n",
      "         ...,\n",
      "         [0., 0., 0.,  ..., 0., 0., 0.],\n",
      "         [0., 0., 0.,  ..., 0., 0., 0.],\n",
      "         [0., 0., 0.,  ..., 0., 0., 0.]],\n",
      "\n",
      "        [[0., 0., 0.,  ..., 0., 0., 0.],\n",
      "         [0., 0., 0.,  ..., 0., 0., 0.],\n",
      "         [0., 0., 0.,  ..., 0., 0., 0.],\n",
      "         ...,\n",
      "         [0., 0., 0.,  ..., 0., 0., 0.],\n",
      "         [0., 0., 0.,  ..., 0., 0., 0.],\n",
      "         [0., 0., 0.,  ..., 0., 0., 0.]],\n",
      "\n",
      "        [[0., 0., 0.,  ..., 0., 0., 0.],\n",
      "         [0., 0., 0.,  ..., 0., 0., 0.],\n",
      "         [0., 0., 0.,  ..., 0., 0., 0.],\n",
      "         ...,\n",
      "         [0., 0., 0.,  ..., 0., 0., 0.],\n",
      "         [0., 0., 0.,  ..., 0., 0., 0.],\n",
      "         [0., 0., 0.,  ..., 0., 0., 0.]],\n",
      "\n",
      "        [[0., 0., 0.,  ..., 0., 0., 0.],\n",
      "         [0., 0., 0.,  ..., 0., 0., 0.],\n",
      "         [0., 0., 0.,  ..., 0., 0., 0.],\n",
      "         ...,\n",
      "         [0., 0., 0.,  ..., 0., 0., 0.],\n",
      "         [0., 0., 0.,  ..., 0., 0., 0.],\n",
      "         [0., 0., 0.,  ..., 0., 0., 0.]]], grad_fn=<AddBackward0>)\n"
     ]
    },
    {
     "data": {
      "text/plain": [
       "(tensor([[[ 3.8513e-01, -3.0105e-01,  3.1593e-01,  3.2700e-01,  2.8517e-01,\n",
       "            9.9946e-03,  4.9254e-02, -2.6836e-01, -2.7102e-01, -1.7718e-01,\n",
       "           -2.2179e-03,  7.3632e-01],\n",
       "          [ 2.4309e-01, -2.2562e-01,  3.6527e-01,  3.8429e-01,  7.2761e-02,\n",
       "            3.9526e-02,  2.2066e-01, -7.8109e-02, -3.1242e-01, -7.9100e-02,\n",
       "            7.4356e-02,  8.4521e-01],\n",
       "          [ 3.1034e-01, -1.2081e-01,  3.8847e-01,  4.8460e-01, -1.3973e-01,\n",
       "            1.9161e-01, -1.5001e-01,  1.1399e-01, -2.1532e-01, -1.9392e-01,\n",
       "           -4.5488e-02,  6.8498e-01],\n",
       "          [ 2.6900e-01, -1.6637e-01,  3.2997e-01,  2.9534e-01,  1.3727e-01,\n",
       "            5.3576e-02,  8.4284e-02, -7.9863e-02, -1.7915e-01, -1.0557e-01,\n",
       "           -2.0628e-01,  7.5240e-01],\n",
       "          [ 3.4093e-01,  1.3659e-01,  2.5254e-01,  4.2041e-01, -2.6470e-01,\n",
       "            3.0388e-01, -1.9568e-01,  8.1863e-02, -4.0809e-01,  9.2237e-02,\n",
       "            1.1747e-01,  4.3572e-01],\n",
       "          [ 2.5709e-01, -3.3202e-01,  2.6844e-01,  3.1854e-01,  1.3142e-01,\n",
       "           -6.6133e-02,  1.5568e-02, -1.2490e-01, -1.8634e-01, -1.7094e-01,\n",
       "            8.7649e-03,  6.6000e-01],\n",
       "          [ 2.5458e-01, -2.9002e-01,  4.4783e-01,  4.4658e-01, -1.7399e-01,\n",
       "            1.2710e-01, -1.0443e-01,  1.1266e-01, -2.5681e-01,  3.8702e-02,\n",
       "            1.2949e-01,  7.3575e-01],\n",
       "          [ 1.8739e-01, -2.5976e-01,  4.0229e-01,  2.9746e-01,  2.3843e-01,\n",
       "           -2.2079e-02,  5.4521e-02, -1.7535e-01, -2.8802e-01, -2.5885e-01,\n",
       "            9.4206e-02,  7.7849e-01],\n",
       "          [ 3.1825e-01,  2.2973e-01,  4.2151e-01,  3.6282e-01, -4.9209e-01,\n",
       "            1.7676e-01, -7.9471e-02,  2.8730e-01, -6.0857e-01,  3.2171e-01,\n",
       "            1.9974e-02,  1.2753e-01],\n",
       "          [ 2.5206e-01, -2.1070e-01,  4.5010e-01,  4.4850e-01,  1.4470e-01,\n",
       "            1.3795e-01,  1.6294e-02,  1.2100e-02, -1.8878e-01, -1.7129e-01,\n",
       "            1.1545e-01,  8.8757e-01]],\n",
       " \n",
       "         [[ 2.2670e-01, -2.3741e-01,  3.7065e-01,  3.1266e-01,  4.3855e-02,\n",
       "            1.0843e-01,  8.6760e-03, -1.9190e-01, -2.1089e-01, -1.8598e-01,\n",
       "           -1.8042e-02,  6.1740e-01],\n",
       "          [ 2.1574e-01, -3.4744e-01,  6.5496e-01,  5.2770e-01, -4.2789e-02,\n",
       "            7.2011e-02, -6.6083e-02, -3.9422e-02, -1.6253e-01, -4.8194e-01,\n",
       "           -8.6097e-02,  6.9111e-01],\n",
       "          [ 2.0528e-01, -1.3364e-01,  8.1409e-02,  4.3218e-01, -6.4615e-02,\n",
       "           -1.1708e-02, -3.7833e-02,  6.4379e-02, -2.5045e-01, -6.6900e-05,\n",
       "            1.7158e-02,  9.0570e-01],\n",
       "          [ 3.0438e-01, -2.0952e-01,  4.8384e-01,  3.5528e-01, -3.7862e-02,\n",
       "            4.8810e-02,  1.0946e-03,  8.8537e-02, -2.2037e-01,  1.1713e-01,\n",
       "            3.5150e-02,  6.7822e-01],\n",
       "          [ 1.0306e-01, -3.2048e-01,  5.8646e-01,  4.5966e-01,  6.4233e-02,\n",
       "           -1.3770e-01, -2.4446e-01,  3.6164e-02, -3.0073e-01, -2.2555e-01,\n",
       "            5.1170e-02,  5.4197e-01],\n",
       "          [ 3.1323e-01, -3.5499e-01,  4.4069e-01,  3.3683e-01,  1.2414e-01,\n",
       "            1.3740e-01,  3.6901e-03, -2.1065e-01, -2.9079e-01, -2.3967e-01,\n",
       "           -1.4896e-01,  7.9261e-01],\n",
       "          [ 1.6151e-01, -1.9935e-01,  4.2631e-01,  5.4634e-01,  1.6804e-01,\n",
       "            2.1747e-02,  2.3573e-01,  7.1399e-02, -3.4404e-01, -2.0815e-01,\n",
       "           -1.0807e-01,  7.6402e-01],\n",
       "          [ 2.6789e-01, -1.4553e-01,  3.4218e-01,  3.9026e-01,  5.0359e-02,\n",
       "           -1.6562e-02, -7.9951e-02, -8.3658e-02, -3.6736e-01, -1.3728e-01,\n",
       "           -5.1000e-02,  6.7423e-01],\n",
       "          [ 2.7937e-01, -2.9299e-01,  3.6649e-01,  3.1967e-01,  1.6643e-01,\n",
       "            1.2890e-01,  5.5808e-02, -5.3120e-02, -3.4414e-01, -2.9574e-01,\n",
       "           -1.0416e-01,  7.3753e-01],\n",
       "          [ 2.0689e-01, -1.1768e-01,  3.2446e-01,  4.6154e-01,  1.6752e-01,\n",
       "           -6.5289e-02, -1.3949e-01, -4.3511e-01, -3.0559e-01, -9.8520e-02,\n",
       "           -8.1120e-02,  8.0060e-01]],\n",
       " \n",
       "         [[ 2.8016e-01, -2.4700e-01,  1.6927e-01, -1.7211e-02, -1.3787e-01,\n",
       "           -4.6418e-01, -5.6217e-01, -2.2855e-01,  7.8375e-03,  2.2641e-01,\n",
       "           -2.5742e-01, -4.8763e-01],\n",
       "          [ 3.5629e-01, -5.5684e-02,  2.4758e-01,  4.2047e-01, -1.3961e-01,\n",
       "            1.5056e-01,  1.1032e-02,  1.9609e-01, -2.5394e-01,  9.8494e-02,\n",
       "           -9.0779e-02,  6.2583e-01],\n",
       "          [ 1.2624e-01, -1.7127e-01,  3.4435e-01,  3.5642e-01,  1.3802e-01,\n",
       "            3.7291e-02, -2.7413e-02, -2.5575e-01, -2.8627e-01, -1.4999e-01,\n",
       "           -5.2993e-02,  7.4672e-01],\n",
       "          [ 3.1212e-01, -1.7167e-01,  3.6413e-01,  6.6389e-01,  4.6147e-02,\n",
       "            7.0983e-02, -5.1997e-02, -9.4327e-02, -2.3358e-01, -1.2918e-01,\n",
       "            2.0805e-02,  7.2137e-01],\n",
       "          [ 3.7905e-01, -2.1794e-01,  3.6429e-01,  2.5615e-01,  5.8064e-02,\n",
       "            2.3026e-02,  1.0279e-01, -3.5588e-01, -2.8432e-01, -1.5509e-01,\n",
       "            3.0955e-02,  9.7885e-01],\n",
       "          [ 1.3206e-01, -2.4986e-01,  3.8690e-01,  4.6473e-01,  3.6784e-02,\n",
       "            5.0651e-02, -7.0135e-04, -2.7045e-01, -1.5112e-01, -2.8190e-01,\n",
       "            5.0143e-02,  8.7709e-01],\n",
       "          [ 1.9926e-01, -1.5840e-01,  3.6529e-01,  3.6340e-01,  2.4697e-01,\n",
       "           -5.0721e-02,  3.5368e-02, -1.1558e-01, -3.2196e-01, -1.4431e-01,\n",
       "           -5.7662e-02,  7.8055e-01],\n",
       "          [ 3.5499e-01,  7.8526e-02,  6.3446e-02,  3.8775e-01, -2.0373e-01,\n",
       "            5.0762e-02, -7.4555e-02,  3.3254e-01, -3.4970e-01,  2.3748e-01,\n",
       "            1.1139e-01,  2.6414e-01],\n",
       "          [ 2.9403e-01, -3.4468e-01,  4.3102e-01,  3.0745e-01,  2.1265e-01,\n",
       "           -1.2063e-01, -1.2523e-01, -3.2096e-01, -3.3343e-01, -2.6443e-01,\n",
       "           -9.4573e-02,  7.6071e-01],\n",
       "          [ 2.6607e-01, -3.1447e-01,  1.8970e-01,  2.5810e-01,  1.7655e-01,\n",
       "            6.4608e-02,  6.9443e-02, -3.0325e-01, -2.2305e-01,  4.8695e-02,\n",
       "           -1.6499e-01,  6.4127e-01]],\n",
       " \n",
       "         [[ 2.8992e-01, -3.7259e-02,  3.6994e-01,  4.0401e-01,  3.7866e-02,\n",
       "            1.5473e-01,  1.3945e-01, -3.1266e-01, -3.6524e-01, -1.3853e-01,\n",
       "           -5.3758e-02,  7.6731e-01],\n",
       "          [ 3.0490e-01, -1.5091e-01,  5.0933e-01,  4.0412e-01, -7.4463e-02,\n",
       "            1.5654e-01,  1.4463e-01,  1.0048e-01, -3.3788e-01, -5.3871e-02,\n",
       "           -4.4744e-02,  7.2074e-01],\n",
       "          [ 4.6095e-01,  1.4781e-01,  3.2609e-01,  1.9056e-01, -1.4061e-01,\n",
       "           -6.4695e-02, -1.0650e-01,  1.9224e-01,  5.5286e-02,  3.3447e-01,\n",
       "           -1.5652e-01, -3.7836e-01],\n",
       "          [ 2.7709e-01, -2.2320e-01,  3.6355e-01,  4.9257e-01,  6.0908e-02,\n",
       "            1.8757e-01,  2.5238e-01,  6.3211e-02, -3.4123e-01, -8.6414e-02,\n",
       "            4.1834e-04,  8.0190e-01],\n",
       "          [ 2.1322e-01,  3.3113e-01,  5.2554e-01,  1.0288e-01, -3.8156e-01,\n",
       "            1.0223e-01, -3.2802e-01,  2.5864e-01, -3.6615e-01,  2.7340e-01,\n",
       "            2.2983e-02, -1.7956e-01],\n",
       "          [ 2.3037e-01,  1.3149e-01,  2.8478e-01,  1.7400e-01, -3.5083e-01,\n",
       "            2.9963e-01, -2.2527e-01, -7.5296e-03, -3.3358e-01,  3.6346e-01,\n",
       "           -2.8227e-02,  2.8191e-01],\n",
       "          [ 2.3625e-01,  2.5831e-01,  7.3160e-02,  2.1143e-01, -1.0668e-01,\n",
       "           -2.9453e-01, -3.0460e-01,  1.4789e-01, -3.1524e-01,  3.4123e-01,\n",
       "           -4.6796e-02, -2.2474e-01],\n",
       "          [ 4.4790e-01, -8.5528e-02,  3.8694e-01,  4.5924e-01, -1.9650e-01,\n",
       "            2.3329e-01, -2.7452e-01,  1.7671e-01, -2.3898e-01,  3.2538e-02,\n",
       "           -1.1724e-01,  4.4553e-01],\n",
       "          [ 2.8837e-01,  2.9106e-04,  2.7756e-01,  4.5977e-01, -2.7496e-01,\n",
       "            2.1976e-01, -7.0166e-02,  2.4897e-01, -3.0722e-01,  6.8261e-02,\n",
       "            1.6290e-02,  4.6121e-01],\n",
       "          [ 1.0206e-01, -1.9211e-01,  3.1092e-01,  3.6030e-01, -1.6065e-01,\n",
       "            4.9216e-02,  1.3441e-02,  1.5347e-01, -2.6771e-01, -3.3426e-02,\n",
       "           -2.2334e-01,  6.9492e-01]]], grad_fn=<SliceBackward0>),\n",
       " tensor(2.4467, grad_fn=<NllLossBackward0>))"
      ]
     },
     "execution_count": 14,
     "metadata": {},
     "output_type": "execute_result"
    }
   ],
   "source": [
    "model(x, y, y, r, t)"
   ]
  },
  {
   "cell_type": "code",
   "execution_count": null,
   "metadata": {},
   "outputs": [],
   "source": []
  }
 ],
 "metadata": {
  "kernelspec": {
   "display_name": "dec-transformer-route",
   "language": "python",
   "name": "python3"
  },
  "language_info": {
   "codemirror_mode": {
    "name": "ipython",
    "version": 3
   },
   "file_extension": ".py",
   "mimetype": "text/x-python",
   "name": "python",
   "nbconvert_exporter": "python",
   "pygments_lexer": "ipython3",
   "version": "3.11.6"
  }
 },
 "nbformat": 4,
 "nbformat_minor": 2
}
