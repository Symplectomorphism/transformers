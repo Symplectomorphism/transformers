{
 "cells": [
  {
   "cell_type": "code",
   "execution_count": 1,
   "metadata": {},
   "outputs": [],
   "source": [
    "from mingpt.utils import set_seed\n",
    "import numpy as np\n",
    "import scipy as sp\n",
    "import torch\n",
    "import torch.nn as nn\n",
    "from torch.nn import functional as F\n",
    "import math\n",
    "from torch.utils.data import Dataset\n",
    "from mingpt.model import GPT\n",
    "from mingpt.trainer import Trainer\n",
    "from mingpt.utils import set_seed, setup_logging, CfgNode as CN\n",
    "\n",
    "import routegym.env\n",
    "import networkx as nx"
   ]
  },
  {
   "cell_type": "code",
   "execution_count": 2,
   "metadata": {},
   "outputs": [
    {
     "name": "stdout",
     "output_type": "stream",
     "text": [
      "sparsity = 0.91\n",
      "sparsity = 0.91\n",
      "[[0 0 1 0 0 0 0 0 0 1 0 0]\n",
      " [0 0 0 0 0 0 0 0 0 0 0 0]\n",
      " [0 0 0 0 0 1 0 0 0 0 0 1]\n",
      " [0 0 0 0 0 0 0 0 0 0 0 0]\n",
      " [0 0 0 0 0 0 0 0 0 0 0 1]\n",
      " [0 0 1 0 0 0 0 1 0 0 0 0]\n",
      " [0 0 0 0 0 0 0 0 0 0 1 0]\n",
      " [0 1 0 0 0 0 0 0 0 0 0 0]\n",
      " [1 0 0 0 0 0 0 0 0 0 0 0]\n",
      " [0 0 0 0 0 0 0 0 0 0 0 0]\n",
      " [0 0 0 0 0 0 0 0 0 0 0 0]\n",
      " [0 0 0 0 0 0 1 0 1 0 1 0]]\n",
      "[[-1 -1  1 -1 -1 -1 -1 -1  1  1 -1 -1]\n",
      " [-1 -1 -1 -1 -1 -1 -1  1 -1 -1 -1 -1]\n",
      " [ 1 -1 -1 -1 -1  1 -1 -1 -1 -1 -1  1]\n",
      " [-1 -1 -1 -1 -1 -1 -1 -1 -1 -1 -1 -1]\n",
      " [-1 -1 -1 -1 -1 -1 -1 -1 -1 -1 -1  1]\n",
      " [-1 -1  1 -1 -1 -1 -1  1 -1 -1 -1 -1]\n",
      " [-1 -1 -1 -1 -1 -1 -1 -1 -1 -1  1  1]\n",
      " [-1  1 -1 -1 -1  1 -1 -1 -1 -1 -1 -1]\n",
      " [ 1 -1 -1 -1 -1 -1 -1 -1 -1 -1 -1  1]\n",
      " [ 1 -1 -1 -1 -1 -1 -1 -1 -1 -1 -1 -1]\n",
      " [-1 -1 -1 -1 -1 -1  1 -1 -1 -1 -1  1]\n",
      " [-1 -1  1 -1  1 -1  1 -1  1 -1  1 -1]]\n"
     ]
    },
    {
     "data": {
      "text/plain": [
       "([0, 2, 5], 2)"
      ]
     },
     "execution_count": 2,
     "metadata": {},
     "output_type": "execute_result"
    }
   ],
   "source": [
    "node_number = 12\n",
    "\n",
    "env = None\n",
    "while env is None:\n",
    "    try:\n",
    "        A = sp.sparse.random(node_number, node_number, density=0.1, format='csr')\n",
    "        A.data[:] = 1\n",
    "        A = A.todense()\n",
    "        A = np.ma.array(A, mask=np.eye(node_number)).filled(fill_value=0).astype(int)\n",
    "        print(\"sparsity = %.2f\" % (1 - np.sum(A)/A.size))\n",
    "        G = nx.from_numpy_array(A)\n",
    "        env = routegym.env.ShortestRouteEnv(G, 0, 5, random_weights=(1,10))\n",
    "    except:\n",
    "        pass\n",
    "# env.render()\n",
    "print(A)\n",
    "print(env.graph.adj_mat)\n",
    "env.get_dijkstra()"
   ]
  },
  {
   "cell_type": "code",
   "execution_count": 3,
   "metadata": {},
   "outputs": [
    {
     "name": "stdout",
     "output_type": "stream",
     "text": [
      "Position: {0, 0, 0, 0, 2, 2, 0, 0, 0, 0, 9, 9, 9, 9, 9, 9, 9, 9, 9, 9, 9, 9, 9, 9, 9, 0, 0, 9, 9, 9, 9, 9, 9, 9, 9, 9, 9, 9, 9, 9, 0, 2, 11, 11, 2, 2, 0, 0, 0, 0, 0, 0, 2, 2, 2, 2, 2, 0, 0, 0, 8, 8, 8, 8, 8, 11, 11, 10, 11, 11, 11, 11, 11, 8, 8, 8, 8, 8, 11, 4, 4, 4, 11, 6, 6, 6, 6, 6, 6, 6, 6, 6, 6, 6, 6, 6, 6, 6, 11, 4, 4, 4, 4, 4, 4, 4, 4, 4, 11, 6, 6, 6, 6, 11, 11, 11, 11, 6, 6, 6, 6, 6, 11, 11, 11, 11, 11, 11, 11, 11, 2, 2, 2, 2, 2, 2, 2, 2, 2, 5, }\n",
      "\n",
      "Final reward: -139.00\n"
     ]
    },
    {
     "data": {
      "text/plain": [
       "True"
      ]
     },
     "execution_count": 3,
     "metadata": {},
     "output_type": "execute_result"
    }
   ],
   "source": [
    "rew = 0\n",
    "position = 0\n",
    "env.reset()\n",
    "done = False\n",
    "print(\"Position: {\", end='')\n",
    "while not done:\n",
    "    action = np.random.choice(np.arange(0, env.graph.adj_mat.shape[0]))\n",
    "    position, reward, done, _ = env.step(action)\n",
    "    # env.render()\n",
    "    print(\"%d, \" % position, end='')\n",
    "    rew += reward\n",
    "print(\"}\\n\")\n",
    "print(\"Final reward: %.2f\" % rew)\n",
    "env.reset()\n",
    "done"
   ]
  },
  {
   "cell_type": "code",
   "execution_count": 47,
   "metadata": {},
   "outputs": [],
   "source": [
    "env.reset()\n",
    "\n",
    "num_steps = 135_000\n",
    "\n",
    "def create_dataset():\n",
    "    obss = []\n",
    "    actions = []\n",
    "    returns = [0]\n",
    "    done_idxs = []\n",
    "    stepwise_returns = []\n",
    "\n",
    "    # simulate to create trajectories\n",
    "    transitions_per_buffer = np.zeros(50, dtype=int)\n",
    "    num_trajectories = 0\n",
    "    while len(obss) < num_steps:\n",
    "        done = False\n",
    "        while not done:\n",
    "            ac = np.random.choice(np.arange(0, env.graph.adj_mat.shape[0]))\n",
    "            state, reward, done, _ = env.step(ac)\n",
    "            obss += [state]\n",
    "            actions += [ac]\n",
    "            stepwise_returns += [reward]\n",
    "            returns[-1] += reward\n",
    "        done = False\n",
    "        env.reset()\n",
    "        done_idxs += [len(obss)]\n",
    "        returns += [0]\n",
    "\n",
    "    actions = np.array(actions)\n",
    "    returns = np.array(returns)\n",
    "    stepwise_returns = np.array(stepwise_returns)\n",
    "    done_idxs = np.array(done_idxs)\n",
    "\n",
    "\n",
    "    print(len(stepwise_returns))\n",
    "\n",
    "    # create reward-to-go dataset\n",
    "    start_index = 0\n",
    "    rtg = np.zeros_like(stepwise_returns)\n",
    "    for i in done_idxs:\n",
    "        i = int(i)\n",
    "        curr_traj_returns = stepwise_returns[start_index:i]\n",
    "        for j in range(i-1, start_index-1, -1): # start from i-1\n",
    "            rtg_j = curr_traj_returns[j-start_index:i-start_index]\n",
    "            rtg[j] = sum(rtg_j)\n",
    "        start_index = i\n",
    "    print('max rtg is %d' % max(rtg))\n",
    "\n",
    "    print(len(actions))\n",
    "\n",
    "    # create timestep dataset\n",
    "    start_index = 0\n",
    "    timesteps = np.zeros(len(actions)+1, dtype=int)\n",
    "    for i in done_idxs:\n",
    "        i = int(i)\n",
    "        timesteps[start_index:i+1] = np.arange(i+1 - start_index)\n",
    "        start_index = i+1\n",
    "    print('max timesteps is %d' % max(timesteps))\n",
    "\n",
    "    return obss, actions, returns, done_idxs, rtg, timesteps"
   ]
  },
  {
   "cell_type": "code",
   "execution_count": 52,
   "metadata": {},
   "outputs": [
    {
     "name": "stdout",
     "output_type": "stream",
     "text": [
      "135166\n",
      "max rtg is 0\n",
      "135166\n",
      "max timesteps is 1877\n"
     ]
    },
    {
     "data": {
      "text/plain": [
       "(1077,)"
      ]
     },
     "execution_count": 52,
     "metadata": {},
     "output_type": "execute_result"
    }
   ],
   "source": [
    "obss, actions, returns, done_idxs, rtgs, timesteps = create_dataset()\n",
    "returns.shape"
   ]
  },
  {
   "cell_type": "code",
   "execution_count": 13,
   "metadata": {},
   "outputs": [],
   "source": [
    "C = CN()\n",
    "\n",
    "# system\n",
    "C.system = CN()\n",
    "C.system.seed = 3407\n",
    "C.system.work_dir = './out/decgpt'\n",
    "\n",
    "# data\n",
    "# C.data = StateActionReturnDataset()\n"
   ]
  },
  {
   "cell_type": "code",
   "execution_count": null,
   "metadata": {},
   "outputs": [],
   "source": []
  }
 ],
 "metadata": {
  "kernelspec": {
   "display_name": "dec-transformer-route",
   "language": "python",
   "name": "python3"
  },
  "language_info": {
   "codemirror_mode": {
    "name": "ipython",
    "version": 3
   },
   "file_extension": ".py",
   "mimetype": "text/x-python",
   "name": "python",
   "nbconvert_exporter": "python",
   "pygments_lexer": "ipython3",
   "version": "3.11.6"
  }
 },
 "nbformat": 4,
 "nbformat_minor": 2
}
