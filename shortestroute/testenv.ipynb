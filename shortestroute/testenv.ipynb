{
 "cells": [
  {
   "cell_type": "code",
   "execution_count": 1,
   "metadata": {},
   "outputs": [],
   "source": [
    "import numpy as np\n",
    "import scipy as sp\n",
    "from env.shortestpath import ShortestPathEnv\n",
    "import networkx as nx"
   ]
  },
  {
   "cell_type": "code",
   "execution_count": 2,
   "metadata": {},
   "outputs": [
    {
     "name": "stdout",
     "output_type": "stream",
     "text": [
      "sparsity = 0.60\n"
     ]
    }
   ],
   "source": [
    "node_number = 5\n",
    "\n",
    "A = sp.sparse.random(node_number, node_number, density=0.5, format='csr')\n",
    "A.data[:] = 1\n",
    "A = A.todense()\n",
    "A = np.ma.array(A, mask=np.eye(node_number)).filled(fill_value=0).astype(int)\n",
    "print(\"sparsity = %.2f\" % (1 - np.sum(A)/A.size))\n",
    "G = nx.from_numpy_array(A, create_using=nx.DiGraph)\n"
   ]
  },
  {
   "cell_type": "code",
   "execution_count": 7,
   "metadata": {},
   "outputs": [],
   "source": [
    "env = ShortestPathEnv(G, 0, 4)"
   ]
  },
  {
   "cell_type": "code",
   "execution_count": 8,
   "metadata": {},
   "outputs": [
    {
     "name": "stdout",
     "output_type": "stream",
     "text": [
      "[[0 1 1 1 0]\n",
      " [1 0 1 0 0]\n",
      " [0 0 0 1 1]\n",
      " [1 1 0 0 0]\n",
      " [0 0 1 0 0]]\n",
      "[array([1, 2, 3]), array([0, 2]), array([3, 4]), array([0, 1]), array([2])]\n"
     ]
    }
   ],
   "source": [
    "print(env.adj_mat)\n",
    "print(env.adj_indices)"
   ]
  },
  {
   "cell_type": "code",
   "execution_count": 9,
   "metadata": {},
   "outputs": [
    {
     "data": {
      "text/plain": [
       "3"
      ]
     },
     "execution_count": 9,
     "metadata": {},
     "output_type": "execute_result"
    }
   ],
   "source": [
    "p, r, d = env.step(4)\n",
    "p, r, d = env.step(3)\n",
    "p"
   ]
  },
  {
   "cell_type": "code",
   "execution_count": 13,
   "metadata": {},
   "outputs": [
    {
     "data": {
      "text/plain": [
       "(1, -1, False)"
      ]
     },
     "execution_count": 13,
     "metadata": {},
     "output_type": "execute_result"
    }
   ],
   "source": [
    "p, r, d = env.step(1)\n",
    "p,r,d"
   ]
  },
  {
   "cell_type": "code",
   "execution_count": 14,
   "metadata": {},
   "outputs": [
    {
     "data": {
      "text/plain": [
       "(2, -1, False)"
      ]
     },
     "execution_count": 14,
     "metadata": {},
     "output_type": "execute_result"
    }
   ],
   "source": [
    "p, r, d = env.step(2)\n",
    "p, r, d"
   ]
  },
  {
   "cell_type": "code",
   "execution_count": 15,
   "metadata": {},
   "outputs": [
    {
     "data": {
      "text/plain": [
       "(4, 0, True)"
      ]
     },
     "execution_count": 15,
     "metadata": {},
     "output_type": "execute_result"
    }
   ],
   "source": [
    "p, r, d = env.step(4)\n",
    "p, r, d"
   ]
  },
  {
   "cell_type": "code",
   "execution_count": null,
   "metadata": {},
   "outputs": [],
   "source": []
  }
 ],
 "metadata": {
  "kernelspec": {
   "display_name": "dec-transformer-route",
   "language": "python",
   "name": "python3"
  },
  "language_info": {
   "codemirror_mode": {
    "name": "ipython",
    "version": 3
   },
   "file_extension": ".py",
   "mimetype": "text/x-python",
   "name": "python",
   "nbconvert_exporter": "python",
   "pygments_lexer": "ipython3",
   "version": "3.11.6"
  }
 },
 "nbformat": 4,
 "nbformat_minor": 2
}
